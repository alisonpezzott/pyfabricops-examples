{
 "cells": [
  {
   "cell_type": "code",
   "execution_count": null,
   "id": "0a43c7e3",
   "metadata": {},
   "outputs": [],
   "source": [
    "# Importing libraries\n",
    "import pyfabricops as pf\n",
    "pf.set_auth_provider('env') \n",
    "\n",
    "# Setup logging\n",
    "pf.setup_logging(format_style='minimal')\n"
   ]
  },
  {
   "cell_type": "code",
   "execution_count": null,
   "id": "7b1076f3",
   "metadata": {},
   "outputs": [],
   "source": [
    "# Reading SQL on premisses payloads\n",
    "import json\n",
    "\n",
    "connections_path = '../connections.json'\n",
    "\n",
    "with open(connections_path, 'r', encoding='utf-8') as f:\n",
    "    connections = json.load(f)\n",
    "\n",
    "sql_on_premises_connections = connections['sql_on_premises_connections']\n",
    "\n",
    "print(json.dumps(sql_on_premises_connections, indent=4))"
   ]
  },
  {
   "cell_type": "code",
   "execution_count": null,
   "id": "6d8d7941",
   "metadata": {},
   "outputs": [],
   "source": [
    "# Loading username and password for the connection:\n",
    "from dotenv import load_dotenv\n",
    "import os\n",
    "\n",
    "load_dotenv()\n",
    "username = os.getenv('DATABASE_USERNAME')\n",
    "password = os.getenv('DATABASE_PASSWORD')"
   ]
  },
  {
   "cell_type": "code",
   "execution_count": null,
   "id": "877c9c75",
   "metadata": {},
   "outputs": [],
   "source": [
    "for connection_key, connection_data in sql_on_premises_connections.items():\n",
    "    \n",
    "    # Retrieving connection details\n",
    "    display_name = connection_data['display_name']\n",
    "    gateway_id = connection_data['gateway_id']\n",
    "    server = connection_data['server']\n",
    "    database = connection_data['database']\n",
    "    roles = connection_data['roles']\n",
    "    \n",
    "\n",
    "    # Creating SQL on premises connection\n",
    "    print(f\"Creating SQL on premises connection: {display_name}...\") \n",
    "    connection_created = pf.create_sql_on_premises_connection(\n",
    "        display_name=display_name,\n",
    "        gateway_id=gateway_id,\n",
    "        server = server,\n",
    "        database = database,\n",
    "        username=username,\n",
    "        password=password\n",
    "    )\n",
    "\n",
    "    # Extracting connection ID\n",
    "    connection_id = connection_created['id']\n",
    "    print(f\"Connection created with ID: {connection_id}\")\n",
    "\n",
    "    # Assigning roles to the connection\n",
    "    for role in roles:\n",
    "        # Assigning role to the connection\n",
    "        print(f\"Assigning role {role['role']} to user {role['user_uuid']} ({role['user_type']}) for connection {display_name}...\")\n",
    "        pf.add_connection_role_assignment(\n",
    "            connection=connection_id,\n",
    "            user_uuid=role['user_uuid'],\n",
    "            user_type=role['user_type'],\n",
    "            role=role['role'],\n",
    "        )\n",
    "\n",
    "    # Storing connection ID in the connections dictionary\n",
    "    connections['sql_on_premises_connections'][display_name]['connection_id'] = connection_id\n",
    "    print(f\"Connection {display_name} created and roles assigned successfully.\\n\")\n",
    "\n",
    "print(json.dumps(connections, indent=4))"
   ]
  },
  {
   "cell_type": "code",
   "execution_count": null,
   "id": "a7936754",
   "metadata": {},
   "outputs": [],
   "source": [
    "# Saving updated connections to the file\n",
    "with open(connections_path, 'w', encoding='utf-8') as f:\n",
    "    json.dump(connections, f, indent=4)"
   ]
  }
 ],
 "metadata": {
  "kernelspec": {
   "display_name": "Python 3",
   "language": "python",
   "name": "python3"
  },
  "language_info": {
   "codemirror_mode": {
    "name": "ipython",
    "version": 3
   },
   "file_extension": ".py",
   "mimetype": "text/x-python",
   "name": "python",
   "nbconvert_exporter": "python",
   "pygments_lexer": "ipython3",
   "version": "3.12.10"
  }
 },
 "nbformat": 4,
 "nbformat_minor": 5
}
