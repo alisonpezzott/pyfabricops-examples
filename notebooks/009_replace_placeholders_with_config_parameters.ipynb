{
 "cells": [
  {
   "cell_type": "code",
   "execution_count": 1,
   "id": "29cee3ab",
   "metadata": {},
   "outputs": [],
   "source": [
    "# Parameters \n",
    "project = 'PowerBIDemo'\n",
    "project_path = f'../src/{project}'"
   ]
  },
  {
   "cell_type": "code",
   "execution_count": 2,
   "id": "8afc7a04",
   "metadata": {},
   "outputs": [],
   "source": [
    "# Libraries\n",
    "import pyfabricops as pf\n",
    "pf.enable_notebook_logging()\n",
    "pf.set_auth_provider('env') \n",
    "\n",
    "import json"
   ]
  },
  {
   "cell_type": "code",
   "execution_count": 3,
   "id": "96492a82",
   "metadata": {},
   "outputs": [
    {
     "name": "stdout",
     "output_type": "stream",
     "text": [
      "Branch: dev, Workspace: PowerBIDemo-DEV\n"
     ]
    }
   ],
   "source": [
    "# Relative paths\n",
    "branch = pf.get_current_branch() \n",
    "branches_path = '../branches.json'\n",
    "workspace_suffix = pf.get_workspace_suffix(path=branches_path)  \n",
    "workspace_name = project + workspace_suffix\n",
    "print(f'Branch: {branch}, Workspace: {workspace_name}') "
   ]
  },
  {
   "cell_type": "code",
   "execution_count": 4,
   "id": "f72bf17c",
   "metadata": {},
   "outputs": [
    {
     "name": "stdout",
     "output_type": "stream",
     "text": [
      "Workspace ID: 1d2e9b3f-34d2-4a39-af39-6ebbc6b13d59\n"
     ]
    }
   ],
   "source": [
    "# Retrienving the workspace_id from config.json in the project_path for better performance\n",
    "config_path = f'{project_path}/config.json'\n",
    "with open(config_path, 'r') as f:\n",
    "  config_content = json.load(f)\n",
    "  config = config_content[branch]  \n",
    "  workspace_id = config[project]['workspace_config']['workspace_id'] \n",
    "print(f'Workspace ID: {workspace_id}')"
   ]
  },
  {
   "cell_type": "code",
   "execution_count": 5,
   "id": "ae5f01fd",
   "metadata": {},
   "outputs": [],
   "source": [
    "# Read the config.json retriving the parameters for the semantic model\n",
    "with open(config_path, 'r') as f:\n",
    "\tconfig_content = json.load(f)\n",
    "config = config_content[branch]\n",
    "semantic_models_config = config[project]['semantic_models']"
   ]
  },
  {
   "cell_type": "code",
   "execution_count": 6,
   "id": "054a7a66",
   "metadata": {},
   "outputs": [
    {
     "name": "stdout",
     "output_type": "stream",
     "text": [
      "Processing semantic model: ../src/PowerBIDemo\\workspace\\Main\\Sales.SemanticModel\n",
      "Deploying semantic model name: Sales\n",
      "Replaced Server with: PEZZOTT\n",
      "Replaced Database with: AdventureWorksDW2022-DEV\n",
      "Replaced CalendarWorkspaceId with: 1d2e9b3f-34d2-4a39-af39-6ebbc6b13d59\n",
      "Replaced CalendarDataflowId with: d7821848-dc82-4558-9507-64636f4c296c\n"
     ]
    }
   ],
   "source": [
    "# Replace the placeholders with the actual values\n",
    "import glob \n",
    "import re\n",
    "\n",
    "for semantic_model_path in glob.glob(f'{project_path}/**/*.SemanticModel', recursive=True):\n",
    "\tprint(f'Processing semantic model: {semantic_model_path}')\n",
    "\tsemantic_model_name = semantic_model_path.replace('\\\\', '/').split('/')[-1].split('.SemanticModel')[0] \n",
    "\tprint(f'Deploying semantic model name: {semantic_model_name}')  \n",
    "\n",
    "\t# Retrieving the semantic model config\n",
    "\tsemantic_model_config = semantic_models_config[semantic_model_name]\n",
    "\tsemantic_model_parameters = semantic_model_config['parameters']\n",
    "\t# Define your new values here\n",
    "\tnew_server = semantic_model_parameters['Server']['Value']\n",
    "\tnew_database = semantic_model_parameters['Database']['Value']\n",
    "\tnew_calendar_workspace_id = semantic_model_parameters['CalendarWorkspaceId']['Value']\n",
    "\tnew_calendar_dataflow_id = semantic_model_parameters['CalendarDataflowId']['Value']\n",
    "\n",
    "\t# Read the expressions file\n",
    "\texpressions_path = f'{semantic_model_path}//definition/expressions.tmdl'\n",
    "\twith open(expressions_path, 'r') as f:\n",
    "\t\texpressions = f.read()\n",
    "\n",
    "\t# Dictionary with variable mappings\n",
    "\tvariables_to_replace = {\n",
    "\t\t'Server': new_server,\n",
    "\t\t'Database': new_database,\n",
    "\t\t'CalendarWorkspaceId': new_calendar_workspace_id,\n",
    "\t\t'CalendarDataflowId': new_calendar_dataflow_id\n",
    "\t}\n",
    "\t\n",
    "\t# Start with original expressions\n",
    "\texpressions_updated = expressions\n",
    "\n",
    "\t# Replace each variable using regex\n",
    "\tfor variable_name, new_value in variables_to_replace.items():\n",
    "\t\t# Pattern to match: VariableName = \"any_value\"\n",
    "\t\tpattern = rf'{variable_name}\\s*=\\s*\"[^\"]*\"'\n",
    "\t\treplacement = f'{variable_name} = \"{new_value}\"'\n",
    "\t\texpressions_updated = re.sub(pattern, replacement, expressions_updated)\n",
    "\t\tprint(f\"Replaced {variable_name} with: {new_value}\")\n",
    "\n",
    "\t# Write the updated expressions back to the file\n",
    "\twith open(expressions_path, 'w', encoding='utf-8') as f:\n",
    "\t\tf.write(expressions_updated)\n"
   ]
  }
 ],
 "metadata": {
  "kernelspec": {
   "display_name": "Python 3",
   "language": "python",
   "name": "python3"
  },
  "language_info": {
   "codemirror_mode": {
    "name": "ipython",
    "version": 3
   },
   "file_extension": ".py",
   "mimetype": "text/x-python",
   "name": "python",
   "nbconvert_exporter": "python",
   "pygments_lexer": "ipython3",
   "version": "3.12.10"
  }
 },
 "nbformat": 4,
 "nbformat_minor": 5
}
