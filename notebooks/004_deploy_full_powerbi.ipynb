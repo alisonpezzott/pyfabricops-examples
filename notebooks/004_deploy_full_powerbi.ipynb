{
 "cells": [
  {
   "cell_type": "markdown",
   "id": "eb092e74",
   "metadata": {},
   "source": [
    "# Notebook 004: Deploy all items to a Power BI Workspace "
   ]
  },
  {
   "cell_type": "code",
   "execution_count": null,
   "id": "45487cc7",
   "metadata": {},
   "outputs": [],
   "source": [
    "# If not installed, run on the command line without the `#`:\n",
    "# pip install pyfabricops "
   ]
  },
  {
   "cell_type": "code",
   "execution_count": null,
   "id": "0e7c2f61",
   "metadata": {},
   "outputs": [],
   "source": [
    "# Import the library\n",
    "import pyfabricops as pf\n",
    "\n",
    "# Set the environment variables for authentication\n",
    "pf.set_auth_provider('env')    # See options: https://pyfabricops.readthedocs.io/en/latest/functions/auth/  \n",
    "\n",
    "# Setup logging\n",
    "pf.setup_logging(format_style='minimal')"
   ]
  },
  {
   "cell_type": "code",
   "execution_count": null,
   "id": "55c39193",
   "metadata": {},
   "outputs": [],
   "source": [
    "# Define the workspace name\n",
    "workspace = '_pyfabricops_PBI_copy-PRD'\n",
    "\n",
    "# Folder name where the exported items will be saved\n",
    "project_path = './_pyfabricops_PBI_copy'\n",
    "\n",
    "# Dataflow path\n",
    "dataflow_path = f'{project_path}/workspace/Calendar.Dataflow'"
   ]
  },
  {
   "cell_type": "code",
   "execution_count": null,
   "id": "4604235d",
   "metadata": {},
   "outputs": [],
   "source": [
    "# Create the workspace if it does not exist\n",
    "pf.create_workspace(\n",
    "    workspace, \n",
    "    description='Continuous integration for library pyfabricops with no capacity (PRO License). Branch: main.',\n",
    "    roles = [\n",
    "        {\n",
    "            \"user_uuid\": \"9322eb4a-4132-4bd1-8df1-5cd3d1d2400b\",\n",
    "            \"user_type\": \"User\",\n",
    "            \"role\": \"Admin\"\n",
    "        },\n",
    "        {\n",
    "            \"user_uuid\": \"bde43861-55e1-4144-b572-be115312967f\",\n",
    "            \"user_type\": \"ServicePrincipal\",\n",
    "            \"role\": \"Admin\",\n",
    "        }\n",
    "    ]\n",
    ")"
   ]
  },
  {
   "cell_type": "code",
   "execution_count": null,
   "id": "9b00e187",
   "metadata": {},
   "outputs": [],
   "source": [
    "pf.export_workspace_config(workspace, project_path)"
   ]
  },
  {
   "cell_type": "code",
   "execution_count": null,
   "id": "49d61ec7",
   "metadata": {},
   "outputs": [],
   "source": [
    "pf.deploy_folders(workspace, project_path,) "
   ]
  },
  {
   "cell_type": "code",
   "execution_count": null,
   "id": "9317c2b3",
   "metadata": {},
   "outputs": [],
   "source": [
    "pf.deploy_dataflow_gen1(workspace, dataflow_path)"
   ]
  },
  {
   "cell_type": "code",
   "execution_count": null,
   "id": "397d846f",
   "metadata": {},
   "outputs": [],
   "source": [
    "pf.get_dataflow_gen1(workspace, 'Calendar') "
   ]
  },
  {
   "cell_type": "code",
   "execution_count": null,
   "id": "4dbad59b",
   "metadata": {},
   "outputs": [],
   "source": [
    "pf.export_dataflow_gen1(workspace, 'Calendar', project_path) "
   ]
  },
  {
   "cell_type": "code",
   "execution_count": null,
   "id": "3e0469f8",
   "metadata": {},
   "outputs": [],
   "source": [
    "pf.deploy_all_semantic_models(workspace, project_path) "
   ]
  },
  {
   "cell_type": "code",
   "execution_count": null,
   "id": "867a00e0",
   "metadata": {},
   "outputs": [],
   "source": [
    "pf.export_all_semantic_models(workspace, project_path)"
   ]
  },
  {
   "cell_type": "code",
   "execution_count": null,
   "id": "c8fef70f",
   "metadata": {},
   "outputs": [],
   "source": [
    "pf.deploy_all_reports(workspace, project_path)"
   ]
  },
  {
   "cell_type": "code",
   "execution_count": null,
   "id": "58d5d6e3",
   "metadata": {},
   "outputs": [],
   "source": [
    "pf.export_all_reports(workspace, project_path)"
   ]
  }
 ],
 "metadata": {
  "kernelspec": {
   "display_name": "pyfabricops-CR-5thhK-py3.12",
   "language": "python",
   "name": "python3"
  },
  "language_info": {
   "codemirror_mode": {
    "name": "ipython",
    "version": 3
   },
   "file_extension": ".py",
   "mimetype": "text/x-python",
   "name": "python",
   "nbconvert_exporter": "python",
   "pygments_lexer": "ipython3",
   "version": "3.12.10"
  }
 },
 "nbformat": 4,
 "nbformat_minor": 5
}
