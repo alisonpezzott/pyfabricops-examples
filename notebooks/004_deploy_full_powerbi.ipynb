{
 "cells": [
  {
   "cell_type": "markdown",
   "id": "eb092e74",
   "metadata": {},
   "source": [
    "# Notebook 004: Deploy all items to a Power BI Workspace "
   ]
  },
  {
   "cell_type": "code",
   "execution_count": null,
   "id": "45487cc7",
   "metadata": {},
   "outputs": [],
   "source": [
    "# If not installed, run on the command line without the `#`:\n",
    "# pip install pyfabricops "
   ]
  },
  {
   "cell_type": "code",
   "execution_count": 1,
   "id": "0e7c2f61",
   "metadata": {},
   "outputs": [],
   "source": [
    "# Import the library\n",
    "from src import pyfabricops as pf\n",
    "\n",
    "# Set the environment variables for authentication\n",
    "pf.set_auth_provider('env')    # See options: https://pyfabricops.readthedocs.io/en/latest/functions/auth/  \n",
    "\n",
    "# If you are using a Jupyter Notebook, you can enable logging to see debug information\n",
    "import logging\n",
    "pf.enable_notebook_logging() "
   ]
  },
  {
   "cell_type": "code",
   "execution_count": 3,
   "id": "55c39193",
   "metadata": {},
   "outputs": [],
   "source": [
    "# Define the workspace name\n",
    "workspace = '_pyfabricops_PBI_copy-PRD'\n",
    "\n",
    "# Folder name where the exported items will be saved\n",
    "project_path = './_pyfabricops_PBI_copy'\n",
    "\n",
    "# Dataflow path\n",
    "dataflow_path = f'{project_path}/workspace/Calendar.Dataflow'"
   ]
  },
  {
   "cell_type": "code",
   "execution_count": 3,
   "id": "4604235d",
   "metadata": {},
   "outputs": [
    {
     "name": "stderr",
     "output_type": "stream",
     "text": [
      "src.pyfabricops._workspaces WARNING: 409: {\"requestId\":\"0eecc357-7136-4589-a57f-022003f881b3\",\"errorCode\":\"PrincipalAlreadyHasWorkspaceRolePermissions\",\"moreDetails\":[{\"relatedResource\":{\"resourceId\":\"9322eb4a-4132-4bd1-8df1-5cd3d1d2400b\",\"resourceType\":\"Principal\"}}],\"message\":\"The provided principal already has a role assigned in the workspace\",\"relatedResource\":{\"resourceId\":\"b94f8fe4-147a-42bc-9bfb-ef42df5d3711\",\"resourceType\":\"Workspace\"}}.\n",
      "src.pyfabricops._workspaces WARNING: 409: {\"requestId\":\"4f01a43c-568c-40ae-96a1-9169420f0b26\",\"errorCode\":\"PrincipalAlreadyHasWorkspaceRolePermissions\",\"moreDetails\":[{\"relatedResource\":{\"resourceId\":\"bde43861-55e1-4144-b572-be115312967f\",\"resourceType\":\"Principal\"}}],\"message\":\"The provided principal already has a role assigned in the workspace\",\"relatedResource\":{\"resourceId\":\"b94f8fe4-147a-42bc-9bfb-ef42df5d3711\",\"resourceType\":\"Workspace\"}}.\n"
     ]
    },
    {
     "data": {
      "text/plain": [
       "{'id': 'b94f8fe4-147a-42bc-9bfb-ef42df5d3711',\n",
       " 'displayName': '_pyfabricops_PBI_copy-PRD',\n",
       " 'description': 'Continuous integration for library pyfabricops with no capacity (PRO License). Branch: main.',\n",
       " 'type': 'Workspace',\n",
       " 'capacityAssignmentProgress': 'Completed'}"
      ]
     },
     "execution_count": 3,
     "metadata": {},
     "output_type": "execute_result"
    }
   ],
   "source": [
    "# Create the workspace if it does not exist\n",
    "pf.create_workspace(\n",
    "    workspace, \n",
    "    description='Continuous integration for library pyfabricops with no capacity (PRO License). Branch: main.',\n",
    "    roles = [\n",
    "        {\n",
    "            \"user_uuid\": \"9322eb4a-4132-4bd1-8df1-5cd3d1d2400b\",\n",
    "            \"user_type\": \"User\",\n",
    "            \"role\": \"Admin\"\n",
    "        },\n",
    "        {\n",
    "            \"user_uuid\": \"bde43861-55e1-4144-b572-be115312967f\",\n",
    "            \"user_type\": \"ServicePrincipal\",\n",
    "            \"role\": \"Admin\",\n",
    "        }\n",
    "    ]\n",
    ")"
   ]
  },
  {
   "cell_type": "code",
   "execution_count": 4,
   "id": "9b00e187",
   "metadata": {},
   "outputs": [
    {
     "name": "stderr",
     "output_type": "stream",
     "text": [
      "src.pyfabricops._workspaces INFO: Found existing config file at ./_pyfabricops_PBI_copy\\config.json, merging workspace config...\n",
      "src.pyfabricops._workspaces INFO: Updated workspace_config for \"_pyfabricops_PBI_copy\" in branch \"main\"\n",
      "src.pyfabricops._workspaces INFO: Workspace configuration successfully written to ./_pyfabricops_PBI_copy\\config.json\n"
     ]
    }
   ],
   "source": [
    "pf.export_workspace_config(workspace, project_path)"
   ]
  },
  {
   "cell_type": "code",
   "execution_count": 5,
   "id": "49d61ec7",
   "metadata": {},
   "outputs": [
    {
     "name": "stderr",
     "output_type": "stream",
     "text": [
      "src.pyfabricops._folders INFO: Found 2 folders containing Fabric artifacts\n",
      "src.pyfabricops._folders WARNING: 409: {\"requestId\":\"2b4c786c-d6df-466f-a9f1-df5057f0f7f4\",\"errorCode\":\"FolderDisplayNameAlreadyInUse\",\"message\":\"Folder display name is already used.\"}.\n",
      "src.pyfabricops._folders WARNING: 409: {\"requestId\":\"c8362de7-c41b-4284-9bc6-da1629c3962b\",\"errorCode\":\"FolderDisplayNameAlreadyInUse\",\"message\":\"Folder display name is already used.\"}.\n",
      "src.pyfabricops._folders INFO: Created folders for workspace _pyfabricops_PBI_copy-PRD.\n",
      "src.pyfabricops._folders INFO: Updated folders config for workspace \"_pyfabricops_PBI_copy\" in branch \"main\"\n",
      "src.pyfabricops._folders INFO: Folders configuration successfully written to ./_pyfabricops_PBI_copy\\config.json.\n"
     ]
    }
   ],
   "source": [
    "pf.deploy_folders(workspace, project_path,) "
   ]
  },
  {
   "cell_type": "code",
   "execution_count": 3,
   "id": "9317c2b3",
   "metadata": {},
   "outputs": [
    {
     "name": "stderr",
     "output_type": "stream",
     "text": [
      "src.pyfabricops._utils INFO: Loaded JSON file with json5: ./_pyfabricops_PBI_copy/workspace/Calendar.Dataflow\\model.json\n",
      "src.pyfabricops._dataflows_gen1 INFO: Dataflow deployed successfully.\n"
     ]
    },
    {
     "data": {
      "text/plain": [
       "True"
      ]
     },
     "execution_count": 3,
     "metadata": {},
     "output_type": "execute_result"
    }
   ],
   "source": [
    "pf.deploy_dataflow_gen1(workspace, dataflow_path)"
   ]
  },
  {
   "cell_type": "code",
   "execution_count": 4,
   "id": "397d846f",
   "metadata": {},
   "outputs": [
    {
     "data": {
      "text/plain": [
       "{'objectId': '0995df01-791d-41f5-baac-4ae0da9cac6b',\n",
       " 'name': 'Calendar',\n",
       " 'description': 'Global calendar of project.',\n",
       " 'configuredBy': 'dev@overdax.com',\n",
       " 'users': [],\n",
       " 'generation': 1}"
      ]
     },
     "execution_count": 4,
     "metadata": {},
     "output_type": "execute_result"
    }
   ],
   "source": [
    "pf.get_dataflow_gen1(workspace, 'Calendar') "
   ]
  },
  {
   "cell_type": "code",
   "execution_count": 6,
   "id": "4dbad59b",
   "metadata": {},
   "outputs": [
    {
     "name": "stderr",
     "output_type": "stream",
     "text": [
      "src.pyfabricops._dataflows_gen1 INFO: Exported dataflow Calendar to ./_pyfabricops_PBI_copy\\workspace\\Calendar.Dataflow.\n",
      "src.pyfabricops._dataflows_gen1 INFO: Found existing config file at ./_pyfabricops_PBI_copy\\config.json, merging workspace config...\n"
     ]
    }
   ],
   "source": [
    "pf.export_dataflow_gen1(workspace, 'Calendar', project_path) "
   ]
  },
  {
   "cell_type": "code",
   "execution_count": 8,
   "id": "3e0469f8",
   "metadata": {},
   "outputs": [
    {
     "name": "stderr",
     "output_type": "stream",
     "text": [
      "src.pyfabricops._semantic_models INFO: Semantic model 'Sales' already exists, updating...\n",
      "src.pyfabricops._semantic_models INFO: Successfully updated semantic model 'Sales'\n",
      "src.pyfabricops._semantic_models INFO: Deployment completed. Successfully deployed 1 semantic models.\n"
     ]
    },
    {
     "data": {
      "text/plain": [
       "['Sales']"
      ]
     },
     "execution_count": 8,
     "metadata": {},
     "output_type": "execute_result"
    }
   ],
   "source": [
    "pf.deploy_all_semantic_models(workspace, project_path) "
   ]
  },
  {
   "cell_type": "code",
   "execution_count": 9,
   "id": "867a00e0",
   "metadata": {},
   "outputs": [
    {
     "name": "stderr",
     "output_type": "stream",
     "text": [
      "src.pyfabricops._semantic_models INFO: Found existing config file at ./_pyfabricops_PBI_copy\\config.json, merging workspace config...\n",
      "src.pyfabricops._utils INFO: Item definition unpacked to ./_pyfabricops_PBI_copy\\workspace\\Main/Sales.SemanticModel\n"
     ]
    }
   ],
   "source": [
    "pf.export_all_semantic_models(workspace, project_path)"
   ]
  },
  {
   "cell_type": "code",
   "execution_count": 4,
   "id": "c8fef70f",
   "metadata": {},
   "outputs": [
    {
     "name": "stderr",
     "output_type": "stream",
     "text": [
      "src.pyfabricops._reports INFO: Report 'Customers' already exists, updating...\n",
      "src.pyfabricops._reports INFO: Successfully updated report 'Customers'\n",
      "src.pyfabricops._reports INFO: Report 'Sales' already exists, updating...\n",
      "src.pyfabricops._reports INFO: Successfully updated report 'Sales'\n",
      "src.pyfabricops._reports INFO: Deployment completed. Successfully deployed 2 reports.\n"
     ]
    },
    {
     "data": {
      "text/plain": [
       "['Customers', 'Sales']"
      ]
     },
     "execution_count": 4,
     "metadata": {},
     "output_type": "execute_result"
    }
   ],
   "source": [
    "pf.deploy_all_reports(workspace, project_path)"
   ]
  },
  {
   "cell_type": "code",
   "execution_count": 5,
   "id": "58d5d6e3",
   "metadata": {},
   "outputs": [
    {
     "name": "stderr",
     "output_type": "stream",
     "text": [
      "src.pyfabricops._reports INFO: Found existing config file at ./_pyfabricops_PBI_copy\\config.json, merging workspace config...\n",
      "src.pyfabricops._utils INFO: Item definition unpacked to ./_pyfabricops_PBI_copy\\workspace\\Main/Sales.Report\n",
      "src.pyfabricops._reports INFO: Found existing config file at ./_pyfabricops_PBI_copy\\config.json, merging workspace config...\n",
      "src.pyfabricops._utils INFO: Item definition unpacked to ./_pyfabricops_PBI_copy\\workspace\\Customers/Customers.Report\n"
     ]
    }
   ],
   "source": [
    "pf.export_all_reports(workspace, project_path)"
   ]
  }
 ],
 "metadata": {
  "kernelspec": {
   "display_name": "pyfabricops-CR-5thhK-py3.12",
   "language": "python",
   "name": "python3"
  },
  "language_info": {
   "codemirror_mode": {
    "name": "ipython",
    "version": 3
   },
   "file_extension": ".py",
   "mimetype": "text/x-python",
   "name": "python",
   "nbconvert_exporter": "python",
   "pygments_lexer": "ipython3",
   "version": "3.12.10"
  }
 },
 "nbformat": 4,
 "nbformat_minor": 5
}
