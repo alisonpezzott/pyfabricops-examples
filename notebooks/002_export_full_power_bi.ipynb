{
 "cells": [
  {
   "cell_type": "markdown",
   "id": "eb092e74",
   "metadata": {},
   "source": [
    "# Notebook 002: Export all items from a Power BI Workspace "
   ]
  },
  {
   "cell_type": "code",
   "execution_count": 1,
   "id": "45487cc7",
   "metadata": {},
   "outputs": [],
   "source": [
    "# If not installed, run on the command line without the `#`:\n",
    "# pip install pyfabricops "
   ]
  },
  {
   "cell_type": "code",
   "execution_count": null,
   "id": "0e7c2f61",
   "metadata": {},
   "outputs": [],
   "source": [
    "# Import the library\n",
    "import pyfabricops as pf\n",
    "\n",
    "# Set the environment variables for authentication\n",
    "pf.set_auth_provider('env')    # See options: https://pyfabricops.readthedocs.io/en/latest/functions/auth/  \n",
    "\n",
    "# If you are using a Jupyter Notebook, you can enable logging to see debug information\n",
    "import logging\n",
    "pf.enable_notebook_logging() "
   ]
  },
  {
   "cell_type": "code",
   "execution_count": 3,
   "id": "55c39193",
   "metadata": {},
   "outputs": [],
   "source": [
    "# Define the workspace name\n",
    "workspace = '_pyfabricops_PBI-PRD'\n",
    "\n",
    "# Folder name where the exported items will be saved\n",
    "project_path = './_pyfabricops_PBI'"
   ]
  },
  {
   "cell_type": "code",
   "execution_count": null,
   "id": "f82647f1",
   "metadata": {},
   "outputs": [],
   "source": [
    "# Export the entire workspace including folders, semantic models, reports, and dataflows gen 1\n",
    "# Note: This will overwrite any existing files in the project_path\n",
    "pf.export_full_workspace(\n",
    "    workspace, \n",
    "    project_path, \n",
    "    include=[\n",
    "        'export_workspace_config', \n",
    "        'export_folders', \n",
    "        'export_all_semantic_models', \n",
    "        'export_all_resports',\n",
    "        'export_all_dataflows_gen1', \n",
    "    ]\n",
    ")"
   ]
  }
 ],
 "metadata": {
  "kernelspec": {
   "display_name": "pyfabricops-CR-5thhK-py3.12",
   "language": "python",
   "name": "python3"
  },
  "language_info": {
   "codemirror_mode": {
    "name": "ipython",
    "version": 3
   },
   "file_extension": ".py",
   "mimetype": "text/x-python",
   "name": "python",
   "nbconvert_exporter": "python",
   "pygments_lexer": "ipython3",
   "version": "3.12.10"
  }
 },
 "nbformat": 4,
 "nbformat_minor": 5
}
