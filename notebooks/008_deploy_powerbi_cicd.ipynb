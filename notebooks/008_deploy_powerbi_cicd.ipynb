{
 "cells": [
  {
   "cell_type": "code",
   "execution_count": 43,
   "id": "29cee3ab",
   "metadata": {},
   "outputs": [],
   "source": [
    "# Parameters \n",
    "project = 'PowerBIDemo'\n",
    "project_path = f'../src/{project}'"
   ]
  },
  {
   "cell_type": "code",
   "execution_count": null,
   "id": "8afc7a04",
   "metadata": {},
   "outputs": [],
   "source": [
    "# Libraries\n",
    "import pyfabricops as pf\n",
    "pf.enable_notebook_logging()\n",
    "pf.set_auth_provider('env') \n",
    "\n",
    "import json\n",
    "import subprocess"
   ]
  },
  {
   "cell_type": "code",
   "execution_count": 61,
   "id": "96492a82",
   "metadata": {},
   "outputs": [
    {
     "name": "stdout",
     "output_type": "stream",
     "text": [
      "Branch: main, Workspace: PowerBIDemo-PRD\n"
     ]
    }
   ],
   "source": [
    "# Relative paths\n",
    "branch = pf.get_current_branch() \n",
    "branches_path = '../branches.json'\n",
    "workspace_suffix = pf.get_workspace_suffix(path=branches_path)  \n",
    "workspace_name = project + workspace_suffix\n",
    "print(f'Branch: {branch}, Workspace: {workspace_name}') "
   ]
  },
  {
   "cell_type": "code",
   "execution_count": 47,
   "id": "f72bf17c",
   "metadata": {},
   "outputs": [
    {
     "name": "stdout",
     "output_type": "stream",
     "text": [
      "Workspace ID: f4bb753f-4b0a-4f38-b0c1-e13cf18e3b1b\n"
     ]
    }
   ],
   "source": [
    "# Retrienving the workspace_id from config.json in the project_path for better performance\n",
    "config_path = f'{project_path}/config.json'\n",
    "with open(config_path, 'r') as f:\n",
    "  config_content = json.load(f)\n",
    "  config = config_content[branch]  \n",
    "  workspace_id = config[project]['workspace_config']['workspace_id'] \n",
    "print(f'Workspace ID: {workspace_id}')"
   ]
  },
  {
   "cell_type": "code",
   "execution_count": 48,
   "id": "4a758a5e",
   "metadata": {},
   "outputs": [
    {
     "name": "stderr",
     "output_type": "stream",
     "text": [
      "pyfabricops._folders INFO: Found 2 folders containing Fabric artifacts\n"
     ]
    },
    {
     "name": "stderr",
     "output_type": "stream",
     "text": [
      "pyfabricops._folders INFO: Created folders for workspace f4bb753f-4b0a-4f38-b0c1-e13cf18e3b1b.\n",
      "pyfabricops._folders INFO: Updated folders config for workspace \"PowerBIDemo\" in branch \"main\"\n",
      "pyfabricops._folders INFO: Folders configuration successfully written to ../src/PowerBIDemo\\config.json.\n"
     ]
    }
   ],
   "source": [
    "# Deploy the folders first.\n",
    "pf.deploy_folders(\n",
    "\tworkspace=workspace_id, \n",
    "\tproject_path=project_path,\n",
    "\tbranches_path=branches_path,\n",
    ")  "
   ]
  },
  {
   "cell_type": "code",
   "execution_count": null,
   "id": "0046e650",
   "metadata": {},
   "outputs": [],
   "source": [
    "# Deploy the calendar dataflow gen1\n",
    "# Due a conflict with others dataflow generations and limitations with folders we need deploy it separately.\n",
    "pf.deploy_dataflow_gen1(\n",
    "\tworkspace=workspace_id, \n",
    "\tpath=f'{project_path}/workspace/Calendar.Dataflow',\n",
    ")  "
   ]
  },
  {
   "cell_type": "code",
   "execution_count": null,
   "id": "ae7ff1c9",
   "metadata": {},
   "outputs": [],
   "source": [
    "# Export dataflow config\n",
    "# Dataflows gen1 don't have folders support on export.\n",
    "# They arrive in the root of the workspace.\n",
    "pf.export_all_dataflows_gen1(\n",
    "\tworkspace=workspace_id,\n",
    "    project_path=project_path,\n",
    "\tbranches_path=branches_path,\n",
    ")"
   ]
  },
  {
   "cell_type": "code",
   "execution_count": 51,
   "id": "ae5f01fd",
   "metadata": {},
   "outputs": [],
   "source": [
    "# Read the config.json retriving the parameters for the semantic model\n",
    "with open(config_path, 'r') as f:\n",
    "  config_content = json.load(f)\n",
    "  config = config_content[branch]\n",
    "  semantic_models_config = config[project]['semantic_models']"
   ]
  },
  {
   "cell_type": "code",
   "execution_count": 55,
   "id": "054a7a66",
   "metadata": {},
   "outputs": [
    {
     "name": "stdout",
     "output_type": "stream",
     "text": [
      "Processing semantic model: ../src/PowerBIDemo\\workspace\\Main\\Sales.SemanticModel\n",
      "Deploying semantic model name: Sales\n",
      "Replaced Server with: PEZZOTT\n",
      "Replaced Database with: AdventureWorksDW2022-PRD\n",
      "Replaced CalendarWorkspaceId with: f4bb753f-4b0a-4f38-b0c1-e13cf18e3b1b\n",
      "Replaced CalendarDataflowId with: e519fe9b-2f21-418e-b297-3e6af3de0c2d\n",
      "\n",
      "=== EXPRESSIONS UPDATED ===\n",
      "expression Server = \"PEZZOTT\" meta [IsParameterQuery=true, Type=\"Text\", IsParameterQueryRequired=false]\n",
      "\tlineageTag: fbf210cc-61ab-47ab-bee6-b95993d2b482\n",
      "\n",
      "\tannotation PBI_ResultType = Text\n",
      "\n",
      "expression Database = \"AdventureWorksDW2022-PRD\" meta [IsParameterQuery=true, Type=\"Text\", IsParameterQueryRequired=false]\n",
      "\tlineageTag: 30ca4587-6ee7-4c47-bb17-22f07992ac68\n",
      "\n",
      "\tannotation PBI_ResultType = Text\n",
      "\n",
      "\tannotation PBI_NavigationStepName = Navigation\n",
      "\n",
      "expression CalendarWorkspaceId = \"f4bb753f-4b0a-4f38-b0c1-e13cf18e3b1b\" meta [IsParameterQuery=true, Type=\"Text\", IsParameterQueryRequired=false]\n",
      "\tlineageTag: 540e979e-d8f5-4bc9-bb51-a7489218d14e\n",
      "\n",
      "\tannotation PBI_ResultType = Text\n",
      "\n",
      "\tannotation PBI_NavigationStepName = Navigation\n",
      "\n",
      "expression CalendarDataflowId = \"e519fe9b-2f21-418e-b297-3e6af3de0c2d\" meta [IsParameterQuery=true, Type=\"Text\", IsParameterQueryRequired=false]\n",
      "\tlineageTag: fd5e9a1d-3759-4567-8a8c-c245ab051e88\n",
      "\n",
      "\tannotation PBI_NavigationStepName = Navigation\n",
      "\n",
      "\tannotation PBI_ResultType = Text\n",
      "\n",
      "\n"
     ]
    }
   ],
   "source": [
    "# Deploying the semantic models\n",
    "import glob \n",
    "import re\n",
    "\n",
    "for semantic_model_path in glob.glob(f'{project_path}/**/*.SemanticModel', recursive=True):\n",
    "\tprint(f'Processing semantic model: {semantic_model_path}')\n",
    "\tsemantic_model_name = semantic_model_path.replace('\\\\', '/').split('/')[-1].split('.SemanticModel')[0] \n",
    "\tprint(f'Deploying semantic model name: {semantic_model_name}')  \n",
    "\n",
    "\t# Retrieving the semantic model config\n",
    "\tsemantic_model_config = semantic_models_config[semantic_model_name]\n",
    "\tsemantic_model_parameters = semantic_model_config['parameters']\n",
    "\t# Define your new values here\n",
    "\tnew_server = semantic_model_parameters['Server']['Value']\n",
    "\tnew_database = semantic_model_parameters['Database']['Value']\n",
    "\tnew_calendar_workspace_id = semantic_model_parameters['CalendarWorkspaceId']['Value']\n",
    "\tnew_calendar_dataflow_id = semantic_model_parameters['CalendarDataflowId']['Value']\n",
    "\n",
    "\t# Read the expressions file\n",
    "\texpressions_path = f'{semantic_model_path}//definition/expressions.tmdl'\n",
    "\twith open(expressions_path, 'r') as f:\n",
    "\t\texpressions = f.read()\n",
    "\n",
    "\t# Dictionary with variable mappings\n",
    "\tvariables_to_replace = {\n",
    "\t\t'Server': new_server,\n",
    "\t\t'Database': new_database,\n",
    "\t\t'CalendarWorkspaceId': new_calendar_workspace_id,\n",
    "\t\t'CalendarDataflowId': new_calendar_dataflow_id\n",
    "\t}\n",
    "\t\n",
    "\t# Start with original expressions\n",
    "\texpressions_updated = expressions\n",
    "\n",
    "\t# Replace each variable using regex\n",
    "\tfor variable_name, new_value in variables_to_replace.items():\n",
    "\t\t# Pattern to match: VariableName = \"any_value\"\n",
    "\t\tpattern = rf'{variable_name}\\s*=\\s*\"[^\"]*\"'\n",
    "\t\treplacement = f'{variable_name} = \"{new_value}\"'\n",
    "\t\texpressions_updated = re.sub(pattern, replacement, expressions_updated)\n",
    "\t\tprint(f\"Replaced {variable_name} with: {new_value}\")\n",
    "\n",
    "\t# Write the updated expressions back to the file\n",
    "\twith open(expressions_path, 'w', encoding='utf-8') as f:\n",
    "\t\tf.write(expressions_updated)\n"
   ]
  },
  {
   "cell_type": "code",
   "execution_count": null,
   "id": "ecf51c3b",
   "metadata": {},
   "outputs": [],
   "source": [
    "# Deploy all the semantic models\n",
    "pf.deploy_all_semantic_models(\n",
    "    workspace=workspace_id, \n",
    "    project_path=project_path,\n",
    "    branches_path=branches_path,\n",
    ")"
   ]
  },
  {
   "cell_type": "code",
   "execution_count": 57,
   "id": "dc72bc97",
   "metadata": {},
   "outputs": [
    {
     "name": "stderr",
     "output_type": "stream",
     "text": [
      "pyfabricops._semantic_models INFO: Found existing config file at ../src/PowerBIDemo\\config.json, merging workspace config...\n",
      "pyfabricops._utils INFO: Item definition unpacked to ../src/PowerBIDemo\\workspace\\Main/Sales.SemanticModel\n"
     ]
    }
   ],
   "source": [
    "# Retrieving the semantic_model_details\n",
    "pf.export_all_semantic_models(\n",
    "    workspace=workspace_id, \n",
    "    project_path=project_path,\n",
    "    branches_path=branches_path,\n",
    ")"
   ]
  },
  {
   "cell_type": "code",
   "execution_count": 58,
   "id": "0e28c09b",
   "metadata": {},
   "outputs": [
    {
     "name": "stdout",
     "output_type": "stream",
     "text": [
      "Processing report: ../src/PowerBIDemo\\workspace\\Customers\\Customers.Report\n",
      "Deploying report: Customers\n",
      "Semantic model: Sales\n",
      "Semantic Model ID: 5d72e3ae-64c5-4061-bdce-203643dc6362\n"
     ]
    },
    {
     "name": "stderr",
     "output_type": "stream",
     "text": [
      "pyfabricops._reports INFO: Creating new report: Customers\n",
      "pyfabricops._reports INFO: Successfully created report 'Customers'\n"
     ]
    },
    {
     "name": "stdout",
     "output_type": "stream",
     "text": [
      "Processing report: ../src/PowerBIDemo\\workspace\\Main\\Sales.Report\n",
      "Deploying report: Sales\n",
      "Semantic model: Sales\n",
      "Semantic Model ID: 5d72e3ae-64c5-4061-bdce-203643dc6362\n"
     ]
    },
    {
     "name": "stderr",
     "output_type": "stream",
     "text": [
      "pyfabricops._reports INFO: Creating new report: Sales\n",
      "pyfabricops._reports INFO: Successfully created report 'Sales'\n"
     ]
    }
   ],
   "source": [
    "# For each report, we will define the report attached to the semantic model and deploy it.\n",
    "import glob \n",
    "import re\n",
    "\n",
    "for report_path in glob.glob(f'{project_path}/**/*.Report', recursive=True):\n",
    "\tprint(f'Processing report: {report_path}')\n",
    "\treport_name = report_path.replace('\\\\', '/').split('/')[-1].split('.Report')[0] \n",
    "\tprint(f'Deploying report: {report_name}')\n",
    "\n",
    "\twith open(f'{report_path}/definition.pbir', 'r') as f:\n",
    "\t\treport_definition = json.load(f)\n",
    "\n",
    "\tdataset_reference = report_definition['datasetReference']\n",
    "\n",
    "\tif 'byPath' in dataset_reference:\n",
    "\t\tdataset_path = dataset_reference['byPath']['path'] \n",
    "\t\tdataset_name = dataset_path.split('/')[-1].split('.SemanticModel')[0]\n",
    "\n",
    "\telif 'byConnection' in dataset_reference:\n",
    "\t\ttext_to_search = dataset_reference['byConnection']['connectionString']\n",
    "\t\t# Capture the value after \"initial catalog=\"\n",
    "\t\tmatch = re.search(r'initial catalog=([^;]+)', text_to_search)\n",
    "\t\tif match:\n",
    "\t\t\tdataset_name = match.group(1)\n",
    "\n",
    "\tprint(f'Semantic model: {dataset_name}')\n",
    "\t\n",
    "\t# Search for the semantic model in the config.json\n",
    "\twith open(config_path, 'r') as f:\n",
    "\t\tconfig_content = json.load(f)\n",
    "\tconfig = config_content[branch]\n",
    "\tsemantic_model_id = config[project]['semantic_models'][dataset_name]['id'] \n",
    "\tprint(f'Semantic Model ID: {semantic_model_id}')  \n",
    "\t\n",
    "\t# Replace the definition.pbir with the updated template\n",
    "\twith open(f'../template_report_definition.pbir', 'r', encoding='utf-8') as f:\n",
    "\t\treport_definition_template = f.read()\n",
    "\n",
    "\treport_definition_updated = report_definition_template.replace('{workspace_name}', workspace_name)\n",
    "\treport_definition_updated = report_definition_updated.replace('{semantic_model_name}', dataset_name)\n",
    "\treport_definition_updated = report_definition_updated.replace('{semantic_model_id}', semantic_model_id)\n",
    "\t# print(report_definition_updated)    \n",
    "\n",
    "\twith open(f'{report_path}/definition.pbir', 'w', encoding='utf-8') as f:\n",
    "\t\tf.write(report_definition_updated)\n",
    "\t\n",
    "\t# Deploy the report\n",
    "\tpf.deploy_report(\n",
    "\t\tworkspace=workspace_id, \n",
    "\t\tdisplay_name=report_name,\n",
    "\t\tproject_path=project_path,\n",
    "\t\tbranches_path=branches_path,\n",
    "\t)\n",
    "\t\n",
    "\t# Write back the original report_definition for the definition.pbir\n",
    "\twith open(f'{report_path}/definition.pbir', 'w', encoding='utf-8') as f:\n",
    "\t\tjson.dump(report_definition, f, indent=2)\n"
   ]
  },
  {
   "cell_type": "code",
   "execution_count": 59,
   "id": "15e693f9",
   "metadata": {},
   "outputs": [
    {
     "name": "stderr",
     "output_type": "stream",
     "text": [
      "pyfabricops._reports INFO: Found existing config file at ../src/PowerBIDemo\\config.json, merging workspace config...\n",
      "pyfabricops._utils INFO: Item definition unpacked to ../src/PowerBIDemo\\workspace\\Customers/Customers.Report\n",
      "pyfabricops._reports INFO: Found existing config file at ../src/PowerBIDemo\\config.json, merging workspace config...\n",
      "pyfabricops._utils INFO: Item definition unpacked to ../src/PowerBIDemo\\workspace\\Main/Sales.Report\n",
      "pyfabricops._dataflows_gen1 INFO: Exported dataflow Calendar to ../src/PowerBIDemo\\workspace\\Calendar.Dataflow.\n",
      "pyfabricops._dataflows_gen1 INFO: Found existing config file at ../src/PowerBIDemo\\config.json, merging workspace config...\n"
     ]
    }
   ],
   "source": [
    "# Extract the reports from the workspace to update config.json if you want to update the config.json with the latest reports.\n",
    "# If you constantly update the reports, you can skip this step because the definition.pbir is binded locally to semantic model.\n",
    "pf.export_all_reports(\n",
    "\tworkspace=workspace_id, \n",
    "\tproject_path=project_path,\n",
    "\tbranches_path=branches_path,\n",
    ")"
   ]
  },
  {
   "cell_type": "code",
   "execution_count": null,
   "id": "4973e7be",
   "metadata": {},
   "outputs": [
    {
     "data": {
      "text/plain": [
       "CompletedProcess(args=['git', 'commit', '-m', 'feat: PowerBIDemo: Development done for the semantic model and reports'], returncode=0)"
      ]
     },
     "execution_count": 42,
     "metadata": {},
     "output_type": "execute_result"
    }
   ],
   "source": [
    "# Finally, we will commit the changes to git.\n",
    "\n",
    "message = f'{project}: Changes commited.'\n",
    "\n",
    "# Git commit and checkout to new branch to start development\n",
    "# Add  the project path to git\n",
    "subprocess.run(['git', 'add', project_path])\n",
    "\n",
    "# Commit the changes\n",
    "subprocess.run(['git', 'commit', '-m', message]) "
   ]
  }
 ],
 "metadata": {
  "kernelspec": {
   "display_name": "Python 3",
   "language": "python",
   "name": "python3"
  },
  "language_info": {
   "codemirror_mode": {
    "name": "ipython",
    "version": 3
   },
   "file_extension": ".py",
   "mimetype": "text/x-python",
   "name": "python",
   "nbconvert_exporter": "python",
   "pygments_lexer": "ipython3",
   "version": "3.12.10"
  }
 },
 "nbformat": 4,
 "nbformat_minor": 5
}
