{
 "cells": [
  {
   "cell_type": "markdown",
   "id": "1f2ee47e",
   "metadata": {},
   "source": [
    "# 008: Notebook to deploy Power BI Project with PyFabricOps "
   ]
  },
  {
   "cell_type": "code",
   "execution_count": 76,
   "id": "a7d8f105",
   "metadata": {},
   "outputs": [
    {
     "name": "stdout",
     "output_type": "stream",
     "text": [
      "Project path: c:\\repos\\pyfabricops-examples\\src\\PowerBIDemo\n",
      "Branches configuration path: c:\\repos\\pyfabricops-examples\\branches.json\n",
      "Branch: main, Workspace: PowerBIDemo-PRD\n"
     ]
    }
   ],
   "source": [
    "# Libraries\n",
    "import json\n",
    "import os\n",
    "import pyfabricops as pf\n",
    "\n",
    "# Enable logging and set authentication provider\n",
    "pf.enable_notebook_logging() # Enable logging for notebook\n",
    "pf.set_auth_provider('env') \n",
    "\n",
    "# Get repo root - works in Jupyter notebooks\n",
    "repo_root = os.path.abspath('..')  # Goes up one level from notebooks folder\n",
    "project = 'PowerBIDemo'\n",
    "project_path = os.path.join(repo_root, 'src', project)\n",
    "print(f\"Project path: {project_path}\")\n",
    "\n",
    "# Define branches configuration path\n",
    "branches_path = os.path.join(repo_root, 'branches.json')\n",
    "print(f\"Branches configuration path: {branches_path}\")\n",
    "\n",
    "# Load branches configuration\n",
    "branch = pf.get_current_branch()\n",
    "workspace_suffix = pf.get_workspace_suffix(path=branches_path)\n",
    "\n",
    "# Define workspace name based on project and branch\n",
    "workspace_name = project + workspace_suffix\n",
    "print(f'Branch: {branch}, Workspace: {workspace_name}') "
   ]
  },
  {
   "cell_type": "code",
   "execution_count": 77,
   "id": "f72bf17c",
   "metadata": {},
   "outputs": [
    {
     "name": "stdout",
     "output_type": "stream",
     "text": [
      "Workspace ID: aeccbc0a-6e35-4c65-b29b-f2f5be3689bf\n"
     ]
    }
   ],
   "source": [
    "# Retrienving the workspace_id from config.json in the project_path for better performance\n",
    "config_path = f'{project_path}/config.json'\n",
    "with open(config_path, 'r') as f:\n",
    "  config_content = json.load(f)\n",
    "  config = config_content[branch]  \n",
    "  workspace_id = config[project]['workspace_config']['workspace_id'] \n",
    "print(f'Workspace ID: {workspace_id}')"
   ]
  },
  {
   "cell_type": "code",
   "execution_count": 78,
   "id": "4a758a5e",
   "metadata": {},
   "outputs": [
    {
     "name": "stderr",
     "output_type": "stream",
     "text": [
      "pyfabricops._folders INFO: Found 2 folders containing Fabric artifacts\n",
      "pyfabricops._folders WARNING: 409: {\"requestId\":\"e219eae2-560d-4dce-b7b2-498c01246448\",\"errorCode\":\"FolderDisplayNameAlreadyInUse\",\"message\":\"Folder display name is already used.\"}.\n",
      "pyfabricops._folders WARNING: 409: {\"requestId\":\"e219eae2-560d-4dce-b7b2-498c01246448\",\"errorCode\":\"FolderDisplayNameAlreadyInUse\",\"message\":\"Folder display name is already used.\"}.\n",
      "pyfabricops._folders WARNING: 409: {\"requestId\":\"eb9f3da1-6ceb-4168-8748-8061c16ee33d\",\"errorCode\":\"FolderDisplayNameAlreadyInUse\",\"message\":\"Folder display name is already used.\"}.\n",
      "pyfabricops._folders INFO: Created folders for workspace aeccbc0a-6e35-4c65-b29b-f2f5be3689bf.\n",
      "pyfabricops._folders WARNING: 409: {\"requestId\":\"eb9f3da1-6ceb-4168-8748-8061c16ee33d\",\"errorCode\":\"FolderDisplayNameAlreadyInUse\",\"message\":\"Folder display name is already used.\"}.\n",
      "pyfabricops._folders INFO: Created folders for workspace aeccbc0a-6e35-4c65-b29b-f2f5be3689bf.\n",
      "pyfabricops._folders INFO: Updated folders config for workspace \"PowerBIDemo\" in branch \"main\"\n",
      "pyfabricops._folders INFO: Folders configuration successfully written to c:\\repos\\pyfabricops-examples\\src\\PowerBIDemo\\config.json.\n",
      "pyfabricops._folders INFO: Updated folders config for workspace \"PowerBIDemo\" in branch \"main\"\n",
      "pyfabricops._folders INFO: Folders configuration successfully written to c:\\repos\\pyfabricops-examples\\src\\PowerBIDemo\\config.json.\n"
     ]
    }
   ],
   "source": [
    "# Deploy the folders first.\n",
    "pf.deploy_folders(\n",
    "\tworkspace=workspace_id, \n",
    "\tproject_path=project_path,\n",
    "\tbranches_path=branches_path,\n",
    ")  "
   ]
  },
  {
   "cell_type": "code",
   "execution_count": 79,
   "id": "0046e650",
   "metadata": {},
   "outputs": [
    {
     "name": "stderr",
     "output_type": "stream",
     "text": [
      "pyfabricops._utils INFO: Loaded JSON file with json5: c:\\repos\\pyfabricops-examples\\src\\PowerBIDemo/workspace/Calendar.Dataflow\\model.json\n",
      "pyfabricops._dataflows_gen1 ERROR: Error deploying the dataflow: 400 - {'code': 'Conflict', 'message': \"Dataflow 'Calendar' already exists\"}\n",
      "pyfabricops._dataflows_gen1 ERROR: Error deploying the dataflow: 400 - {'code': 'Conflict', 'message': \"Dataflow 'Calendar' already exists\"}\n"
     ]
    }
   ],
   "source": [
    "# Deploy the calendar dataflow gen1\n",
    "# Due a conflict with others dataflow generations and limitations with folders we need deploy it separately.\n",
    "pf.deploy_dataflow_gen1(\n",
    "\tworkspace=workspace_id, \n",
    "\tpath=f'{project_path}/workspace/Calendar.Dataflow',\n",
    ")  "
   ]
  },
  {
   "cell_type": "code",
   "execution_count": 80,
   "id": "ae7ff1c9",
   "metadata": {},
   "outputs": [
    {
     "name": "stderr",
     "output_type": "stream",
     "text": [
      "pyfabricops._dataflows_gen1 INFO: Exported dataflow Calendar to c:\\repos\\pyfabricops-examples\\src\\PowerBIDemo\\workspace\\Calendar.Dataflow.\n",
      "pyfabricops._dataflows_gen1 INFO: Found existing config file at c:\\repos\\pyfabricops-examples\\src\\PowerBIDemo\\config.json, merging workspace config...\n",
      "pyfabricops._dataflows_gen1 INFO: Found existing config file at c:\\repos\\pyfabricops-examples\\src\\PowerBIDemo\\config.json, merging workspace config...\n"
     ]
    }
   ],
   "source": [
    "# Export dataflow config\n",
    "# Dataflows gen1 don't have folders support on export.\n",
    "# They arrive in the root of the workspace.\n",
    "pf.export_all_dataflows_gen1(\n",
    "\tworkspace=workspace_id,\n",
    "\t\t\t\tproject_path=project_path,\n",
    "\tbranches_path=branches_path,\n",
    ")"
   ]
  },
  {
   "cell_type": "markdown",
   "id": "62708508",
   "metadata": {},
   "source": [
    "> [!IMPORTANT]\n",
    "> If is a first time you need create a minimal config.json file for the semantic models.\n",
    "\n",
    "For example:\n",
    "```json\n",
    "{\n",
    "\t\"dev\": {\n",
    "\t\t\"PowerBIDemo\": {\n",
    "\t\t\t\"semantic_models\": {\n",
    "\t\t\t\t\"Sales\": {\n",
    "\t\t\t\t\t\"parameters\": {\n",
    "\t\t\t\t\t\t\"Server\": {\"Value\": \"PEZZOTT\"},\n",
    "\t\t\t\t\t\t\"Database\": {\"Value\": \"AdventureWorksDW2022-DEV\"},\n",
    "\t\t\t\t\t\t\"WorkspaceId\": {\"Value\": \"de8f92a3-5b98-461a-b27d-c8a1c60c0cfc\"}\n",
    "\t\t\t\t\t}\n",
    "\t\t\t\t}\n",
    "\t\t\t}\n",
    "\t\t}\n",
    "\t}\n",
    "}\n",
    "``` \n"
   ]
  },
  {
   "cell_type": "code",
   "execution_count": 81,
   "id": "ae5f01fd",
   "metadata": {},
   "outputs": [],
   "source": [
    "# Read the config.json retriving the parameters for the semantic model\n",
    "with open(config_path, 'r') as f:\n",
    "\tconfig_content = json.load(f)\n",
    "config = config_content[branch]\n",
    "\n",
    "semantic_models_config = config[project]['semantic_models']"
   ]
  },
  {
   "cell_type": "code",
   "execution_count": 82,
   "id": "054a7a66",
   "metadata": {},
   "outputs": [
    {
     "name": "stdout",
     "output_type": "stream",
     "text": [
      "Processing semantic model: c:\\repos\\pyfabricops-examples\\src\\PowerBIDemo\\workspace\\Main\\Sales.SemanticModel\n",
      "Deploying semantic model name: Sales\n",
      "Found parameter: Server = PEZZOTT\n",
      "Found parameter: Database = AdventureWorksDW2022-DEV\n",
      "Found parameter: WorkspaceId = aeccbc0a-6e35-4c65-b29b-f2f5be3689bf\n",
      "Replaced Server with: PEZZOTT\n",
      "Replaced Database with: AdventureWorksDW2022-DEV\n",
      "Replaced WorkspaceId with: aeccbc0a-6e35-4c65-b29b-f2f5be3689bf\n"
     ]
    }
   ],
   "source": [
    "# Replacing the parameters in the semantic models with the values from config.json\n",
    "import glob \n",
    "import re\n",
    "\n",
    "for semantic_model_path in glob.glob(f'{project_path}/**/*.SemanticModel', recursive=True):\n",
    "\tprint(f'Processing semantic model: {semantic_model_path}')\n",
    "\tsemantic_model_name = semantic_model_path.replace('\\\\', '/').split('/')[-1].split('.SemanticModel')[0] \n",
    "\tprint(f'Deploying semantic model name: {semantic_model_name}')  \n",
    "\n",
    "\t# Retrieving the semantic model config\n",
    "\tsemantic_model_config = semantic_models_config[semantic_model_name]\n",
    "\tsemantic_model_parameters = semantic_model_config['parameters']\n",
    "\n",
    "\t# Read the expressions file\n",
    "\texpressions_path = f'{semantic_model_path}//definition/expressions.tmdl'\n",
    "\twith open(expressions_path, 'r') as f:\n",
    "\t\texpressions = f.read()\n",
    "\n",
    "\t# Build variables dictionary dynamically from config.json\n",
    "\tvariables_to_replace = {}\n",
    "\tfor parameter_name, parameter_obj in semantic_model_parameters.items():\n",
    "\t\tvariables_to_replace[parameter_name] = parameter_obj['Value']\n",
    "\t\tprint(f\"Found parameter: {parameter_name} = {parameter_obj['Value']}\")\n",
    "\t\n",
    "\t# Start with original expressions\n",
    "\texpressions_updated = expressions\n",
    "\n",
    "\t# Replace each variable using regex\n",
    "\tfor variable_name, new_value in variables_to_replace.items():\n",
    "\t\t# Pattern to match: VariableName = \"any_value\"\n",
    "\t\tpattern = rf'{variable_name}\\s*=\\s*\"[^\"]*\"'\n",
    "\t\treplacement = f'{variable_name} = \"{new_value}\"'\n",
    "\t\texpressions_updated = re.sub(pattern, replacement, expressions_updated)\n",
    "\t\tprint(f\"Replaced {variable_name} with: {new_value}\")\n",
    "\n",
    "\t# Write the updated expressions back to the file\n",
    "\twith open(expressions_path, 'w', encoding='utf-8') as f:\n",
    "\t\tf.write(expressions_updated)"
   ]
  },
  {
   "cell_type": "code",
   "execution_count": 83,
   "id": "ecf51c3b",
   "metadata": {},
   "outputs": [
    {
     "name": "stderr",
     "output_type": "stream",
     "text": [
      "pyfabricops._semantic_models INFO: Semantic model 'Sales' already exists, updating...\n",
      "pyfabricops._semantic_models INFO: Successfully updated semantic model 'Sales'\n",
      "pyfabricops._semantic_models INFO: Successfully updated semantic model 'Sales'\n",
      "pyfabricops._semantic_models INFO: Deployment completed. Successfully deployed 1 semantic models.\n",
      "pyfabricops._semantic_models INFO: Deployment completed. Successfully deployed 1 semantic models.\n"
     ]
    },
    {
     "data": {
      "text/plain": [
       "['Sales']"
      ]
     },
     "execution_count": 83,
     "metadata": {},
     "output_type": "execute_result"
    }
   ],
   "source": [
    "# Deploy all the semantic models\n",
    "pf.deploy_all_semantic_models(\n",
    "\tworkspace=workspace_id, \n",
    "\tproject_path=project_path,\n",
    "\tbranches_path=branches_path,\n",
    ")"
   ]
  },
  {
   "cell_type": "code",
   "execution_count": 84,
   "id": "dc72bc97",
   "metadata": {},
   "outputs": [
    {
     "name": "stderr",
     "output_type": "stream",
     "text": [
      "pyfabricops._semantic_models INFO: Found existing config file at c:\\repos\\pyfabricops-examples\\src\\PowerBIDemo\\config.json, merging workspace config...\n",
      "pyfabricops._utils INFO: Item definition unpacked to c:\\repos\\pyfabricops-examples\\src\\PowerBIDemo\\workspace\\Main/Sales.SemanticModel\n",
      "pyfabricops._utils INFO: Item definition unpacked to c:\\repos\\pyfabricops-examples\\src\\PowerBIDemo\\workspace\\Main/Sales.SemanticModel\n"
     ]
    }
   ],
   "source": [
    "# Retrieving the semantic_model_details\n",
    "pf.export_all_semantic_models(\n",
    "\tworkspace=workspace_id, \n",
    "\tproject_path=project_path,\n",
    "\tbranches_path=branches_path,\n",
    ")"
   ]
  },
  {
   "cell_type": "code",
   "execution_count": 85,
   "id": "8b509e69",
   "metadata": {},
   "outputs": [
    {
     "name": "stdout",
     "output_type": "stream",
     "text": [
      "Processing semantic model: c:\\repos\\pyfabricops-examples\\src\\PowerBIDemo\\workspace\\Main\\Sales.SemanticModel\n",
      "Injecting placeholders into: Sales\n",
      "Replaced Server value with placeholder.\n",
      "Replaced Database value with placeholder.\n",
      "Replaced WorkspaceId value with placeholder.\n"
     ]
    }
   ],
   "source": [
    "# After deploying the semantic models, we change the values to placeholders to commit the changes.\n",
    "import glob\n",
    "import re\n",
    "\n",
    "for semantic_model_path in glob.glob(f'{project_path}/**/*.SemanticModel', recursive=True):\n",
    "\tprint(f'Processing semantic model: {semantic_model_path}')\n",
    "\tsemantic_model_name = semantic_model_path.replace('\\\\', '/').split('/')[-1].split('.SemanticModel')[0] \n",
    "\tprint(f'Injecting placeholders into: {semantic_model_name}')  \n",
    "\n",
    "\t# Retrieve the parameters to build the placeholders\n",
    "\tsemantic_model_config = semantic_models_config[semantic_model_name]\n",
    "\tsemantic_model_parameters = semantic_model_config['parameters']\n",
    "\n",
    "\t# Read the current content of expressions.tmdl (with the actual values)\n",
    "\texpressions_path = f'{semantic_model_path}/definition/expressions.tmdl'\n",
    "\twith open(expressions_path, 'r', encoding='utf-8') as f:\n",
    "\t\texpressions = f.read()\n",
    "\n",
    "\t# Replace the values with placeholders\n",
    "\texpressions_with_placeholders = expressions\n",
    "\n",
    "\tfor parameter_name, parameter_obj in semantic_model_parameters.items():\n",
    "\t\tactual_value = parameter_obj[\"Value\"]\n",
    "\t\t# Create the pattern to replace: Param = \"CurrentValue\"\n",
    "\t\tpattern = rf'{parameter_name}\\s*=\\s*\"{re.escape(actual_value)}\"'\n",
    "\t\t# Replace: Param = \"#{Param}#\"\n",
    "\t\treplacement = f'{parameter_name} = \"#{{{parameter_name}}}#\"'\n",
    "\t\texpressions_with_placeholders = re.sub(pattern, replacement, expressions_with_placeholders)\n",
    "\t\tprint(f\"Replaced {parameter_name} value with placeholder.\")\n",
    "\n",
    "\t# Write back the result on file\n",
    "\twith open(expressions_path, 'w', encoding='utf-8') as f:\n",
    "\t\tf.write(expressions_with_placeholders)\n",
    "\n",
    "\n"
   ]
  },
  {
   "cell_type": "code",
   "execution_count": 86,
   "id": "0e28c09b",
   "metadata": {},
   "outputs": [
    {
     "name": "stdout",
     "output_type": "stream",
     "text": [
      "Processing report: c:\\repos\\pyfabricops-examples\\src\\PowerBIDemo\\workspace\\Customers\\Customers.Report\n",
      "Deploying report: Customers\n",
      "Semantic model: Sales\n",
      "Semantic Model ID: 4b45af69-6b7f-4a56-9e40-676506fc0c61\n"
     ]
    },
    {
     "name": "stderr",
     "output_type": "stream",
     "text": [
      "pyfabricops._reports INFO: Report 'Customers' already exists, updating...\n",
      "pyfabricops._reports INFO: Successfully updated report 'Customers'\n"
     ]
    },
    {
     "name": "stdout",
     "output_type": "stream",
     "text": [
      "Processing report: c:\\repos\\pyfabricops-examples\\src\\PowerBIDemo\\workspace\\Main\\Sales.Report\n",
      "Deploying report: Sales\n",
      "Semantic model: Sales\n",
      "Semantic Model ID: 4b45af69-6b7f-4a56-9e40-676506fc0c61\n"
     ]
    },
    {
     "name": "stderr",
     "output_type": "stream",
     "text": [
      "pyfabricops._reports INFO: Report 'Sales' already exists, updating...\n",
      "pyfabricops._reports INFO: Successfully updated report 'Sales'\n"
     ]
    }
   ],
   "source": [
    "# For each report, we will define the report attached to the semantic model and deploy it.\n",
    "import glob \n",
    "import re\n",
    "\n",
    "for report_path in glob.glob(f'{project_path}/**/*.Report', recursive=True):\n",
    "\tprint(f'Processing report: {report_path}')\n",
    "\treport_name = report_path.replace('\\\\', '/').split('/')[-1].split('.Report')[0] \n",
    "\tprint(f'Deploying report: {report_name}')\n",
    "\n",
    "\twith open(f'{report_path}/definition.pbir', 'r') as f:\n",
    "\t\treport_definition = json.load(f)\n",
    "\n",
    "\tdataset_reference = report_definition['datasetReference']\n",
    "\n",
    "\tif 'byPath' in dataset_reference:\n",
    "\t\tdataset_path = dataset_reference['byPath']['path'] \n",
    "\t\tdataset_name = dataset_path.split('/')[-1].split('.SemanticModel')[0]\n",
    "\n",
    "\telif 'byConnection' in dataset_reference:\n",
    "\t\ttext_to_search = dataset_reference['byConnection']['connectionString']\n",
    "\t\t# Capture the value after \"initial catalog=\"\n",
    "\t\tmatch = re.search(r'initial catalog=([^;]+)', text_to_search)\n",
    "\t\tif match:\n",
    "\t\t\tdataset_name = match.group(1)\n",
    "\n",
    "\tprint(f'Semantic model: {dataset_name}')\n",
    "\t\n",
    "\t# Search for the semantic model in the config.json\n",
    "\twith open(config_path, 'r') as f:\n",
    "\t\tconfig_content = json.load(f)\n",
    "\tconfig = config_content[branch]\n",
    "\tsemantic_model_id = config[project]['semantic_models'][dataset_name]['id'] \n",
    "\tprint(f'Semantic Model ID: {semantic_model_id}')  \n",
    "\t\n",
    "\t# Replace the definition.pbir with the updated template\n",
    "\twith open(os.path.join(repo_root, 'template_report_definition.pbir'), 'r', encoding='utf-8') as f:\n",
    "\t\treport_definition_template = f.read()\n",
    "\n",
    "\treport_definition_updated = report_definition_template.replace('{workspace_name}', workspace_name)\n",
    "\treport_definition_updated = report_definition_updated.replace('{semantic_model_name}', dataset_name)\n",
    "\treport_definition_updated = report_definition_updated.replace('{semantic_model_id}', semantic_model_id)\n",
    "\t# print(report_definition_updated)    \n",
    "\n",
    "\twith open(f'{report_path}/definition.pbir', 'w', encoding='utf-8') as f:\n",
    "\t\tf.write(report_definition_updated)\n",
    "\t\n",
    "\t# Deploy the report\n",
    "\tpf.deploy_report(\n",
    "\t\tworkspace=workspace_id, \n",
    "\t\tdisplay_name=report_name,\n",
    "\t\tproject_path=project_path,\n",
    "\t\tbranches_path=branches_path,\n",
    "\t)\n",
    "\t\n",
    "\t# Write back the original report_definition for the definition.pbir\n",
    "\twith open(f'{report_path}/definition.pbir', 'w', encoding='utf-8') as f:\n",
    "\t\tjson.dump(report_definition, f, indent=2)\n"
   ]
  }
 ],
 "metadata": {
  "kernelspec": {
   "display_name": "Python 3",
   "language": "python",
   "name": "python3"
  },
  "language_info": {
   "codemirror_mode": {
    "name": "ipython",
    "version": 3
   },
   "file_extension": ".py",
   "mimetype": "text/x-python",
   "name": "python",
   "nbconvert_exporter": "python",
   "pygments_lexer": "ipython3",
   "version": "3.12.10"
  }
 },
 "nbformat": 4,
 "nbformat_minor": 5
}
