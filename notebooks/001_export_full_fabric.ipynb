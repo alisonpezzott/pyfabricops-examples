{
 "cells": [
  {
   "cell_type": "markdown",
   "id": "eb092e74",
   "metadata": {},
   "source": [
    "# Notebook 001: Export all items from a Fabric Workspace "
   ]
  },
  {
   "cell_type": "code",
   "execution_count": 1,
   "id": "45487cc7",
   "metadata": {},
   "outputs": [],
   "source": [
    "# If not installed, run on the command line without the `#`:\n",
    "# pip install pyfabricops "
   ]
  },
  {
   "cell_type": "code",
   "execution_count": null,
   "id": "0e7c2f61",
   "metadata": {},
   "outputs": [],
   "source": [
    "# Import the library\n",
    "import pyfabricops as pf\n",
    "\n",
    "# Set the environment variables for authentication\n",
    "pf.set_auth_provider('env')    # See options: https://pyfabricops.readthedocs.io/en/latest/functions/auth/  \n",
    "\n",
    "# If you are using a Jupyter Notebook, you can enable logging to see debug information\n",
    "import logging\n",
    "pf.enable_notebook_logging() "
   ]
  },
  {
   "cell_type": "code",
   "execution_count": 2,
   "id": "55c39193",
   "metadata": {},
   "outputs": [],
   "source": [
    "# Define the workspace name\n",
    "workspace = '_pyfabricops-PRD'\n",
    "\n",
    "# Folder name where the exported items will be saved\n",
    "project_path = './_pyfabricops'"
   ]
  },
  {
   "cell_type": "code",
   "execution_count": 3,
   "id": "49d61ec7",
   "metadata": {},
   "outputs": [
    {
     "name": "stderr",
     "output_type": "stream",
     "text": [
      "src.pyfabricops._workspaces WARNING: No existing config found at ./_pyfabricops\\config.json, creating a new one.\n",
      "src.pyfabricops._workspaces INFO: Updated workspace_config for \"_pyfabricops\" in branch \"main\"\n",
      "src.pyfabricops._workspaces INFO: Workspace configuration successfully written to ./_pyfabricops\\config.json\n",
      "src.pyfabricops._folders INFO: Folder structure created at ./_pyfabricops/workspace\n",
      "src.pyfabricops._folders INFO: Updated folders config for workspace \"_pyfabricops\" in branch \"main\"\n",
      "src.pyfabricops._folders INFO: Folders configuration successfully written to ./_pyfabricops\\config.json.\n",
      "src.pyfabricops._lakehouses INFO: Found existing config file at ./_pyfabricops\\config.json, merging workspace config...\n",
      "src.pyfabricops._warehouses INFO: Found existing config file at ./_pyfabricops\\config.json, merging workspace config...\n",
      "src.pyfabricops._semantic_models INFO: Found existing config file at ./_pyfabricops\\config.json, merging workspace config...\n",
      "src.pyfabricops._utils INFO: Item definition unpacked to ./_pyfabricops\\workspace\\PowerBI/DirectLake/GoldenDataset.SemanticModel\n",
      "src.pyfabricops._utils WARNING: No parameters found in file: ./_pyfabricops\\workspace\\PowerBI/DirectLake/GoldenDataset.SemanticModel/definition/expressions.tmdl\n",
      "src.pyfabricops._semantic_models INFO: Found existing config file at ./_pyfabricops\\config.json, merging workspace config...\n",
      "src.pyfabricops._utils INFO: Item definition unpacked to ./_pyfabricops\\workspace\\PowerBI/Import/Sales.SemanticModel\n",
      "src.pyfabricops._reports INFO: Found existing config file at ./_pyfabricops\\config.json, merging workspace config...\n",
      "src.pyfabricops._utils INFO: Item definition unpacked to ./_pyfabricops\\workspace\\PowerBI/DirectLake/CustomersAnalysis.Report\n",
      "src.pyfabricops._reports INFO: Found existing config file at ./_pyfabricops\\config.json, merging workspace config...\n",
      "src.pyfabricops._utils INFO: Item definition unpacked to ./_pyfabricops\\workspace\\PowerBI/DirectLake/ProductsAnalysis.Report\n",
      "src.pyfabricops._reports INFO: Found existing config file at ./_pyfabricops\\config.json, merging workspace config...\n",
      "src.pyfabricops._utils INFO: Item definition unpacked to ./_pyfabricops\\workspace\\PowerBI/Import/Sales.Report\n",
      "src.pyfabricops._data_pipelines INFO: Found existing config file at ./_pyfabricops\\config.json, merging workspace config...\n",
      "src.pyfabricops._utils INFO: Item definition unpacked to ./_pyfabricops\\workspace\\Orchestration/CopyData.DataPipeline\n",
      "src.pyfabricops._notebooks INFO: Found existing config file at ./_pyfabricops\\config.json, merging workspace config...\n",
      "src.pyfabricops._utils INFO: Item definition unpacked to ./_pyfabricops\\workspace\\Orchestration/TransformAndLoad.Notebook\n",
      "src.pyfabricops._dataflows_gen2 INFO: Found existing config file at ./_pyfabricops\\config.json, merging workspace config...\n",
      "src.pyfabricops._utils INFO: Item definition unpacked to ./_pyfabricops\\workspace\\Orchestration/UpdateCalendar.Dataflow\n"
     ]
    }
   ],
   "source": [
    "pf.export_full_workspace(workspace, project_path) "
   ]
  }
 ],
 "metadata": {
  "kernelspec": {
   "display_name": "pyfabricops-CR-5thhK-py3.12",
   "language": "python",
   "name": "python3"
  },
  "language_info": {
   "codemirror_mode": {
    "name": "ipython",
    "version": 3
   },
   "file_extension": ".py",
   "mimetype": "text/x-python",
   "name": "python",
   "nbconvert_exporter": "python",
   "pygments_lexer": "ipython3",
   "version": "3.12.10"
  }
 },
 "nbformat": 4,
 "nbformat_minor": 5
}
