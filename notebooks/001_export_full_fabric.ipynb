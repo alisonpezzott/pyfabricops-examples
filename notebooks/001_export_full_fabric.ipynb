{
 "cells": [
  {
   "cell_type": "markdown",
   "id": "eb092e74",
   "metadata": {},
   "source": [
    "# Notebook 001: Export all items from a Fabric Workspace "
   ]
  },
  {
   "cell_type": "code",
   "execution_count": null,
   "id": "45487cc7",
   "metadata": {},
   "outputs": [],
   "source": [
    "# If not installed, run on the command line without the `#`:\n",
    "# pip install pyfabricops "
   ]
  },
  {
   "cell_type": "code",
   "execution_count": null,
   "id": "0e7c2f61",
   "metadata": {},
   "outputs": [],
   "source": [
    "# Import the library\n",
    "import pyfabricops as pf\n",
    "\n",
    "# Set the environment variables for authentication\n",
    "pf.set_auth_provider('env')    # See options: https://pyfabricops.readthedocs.io/en/latest/functions/auth/  \n",
    "\n",
    "# If you are using a Jupyter Notebook, you can enable logging to see debug information\n",
    "import logging\n",
    "pf.enable_notebook_logging() "
   ]
  },
  {
   "cell_type": "code",
   "execution_count": null,
   "id": "55c39193",
   "metadata": {},
   "outputs": [],
   "source": [
    "# Define the workspace name\n",
    "workspace = '_pyfabricops-PRD'\n",
    "\n",
    "# Folder name where the exported items will be saved\n",
    "project_path = './_pyfabricops'"
   ]
  },
  {
   "cell_type": "code",
   "execution_count": null,
   "id": "49d61ec7",
   "metadata": {},
   "outputs": [],
   "source": [
    "pf.export_full_workspace(workspace, project_path) "
   ]
  }
 ],
 "metadata": {
  "kernelspec": {
   "display_name": "pyfabricops-CR-5thhK-py3.12",
   "language": "python",
   "name": "python3"
  },
  "language_info": {
   "codemirror_mode": {
    "name": "ipython",
    "version": 3
   },
   "file_extension": ".py",
   "mimetype": "text/x-python",
   "name": "python",
   "nbconvert_exporter": "python",
   "pygments_lexer": "ipython3",
   "version": "3.12.10"
  }
 },
 "nbformat": 4,
 "nbformat_minor": 5
}
