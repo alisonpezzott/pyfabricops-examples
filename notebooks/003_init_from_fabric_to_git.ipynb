{
 "cells": [
  {
   "cell_type": "markdown",
   "id": "eb092e74",
   "metadata": {},
   "source": [
    "# Notebook 003: Init source control from existing Fabric workspace to GitHub  "
   ]
  },
  {
   "cell_type": "code",
   "execution_count": null,
   "id": "45487cc7",
   "metadata": {},
   "outputs": [],
   "source": [
    "# If not installed, run on the command line without the `#`:\n",
    "# pip install pyfabricops "
   ]
  },
  {
   "cell_type": "code",
   "execution_count": null,
   "id": "0e7c2f61",
   "metadata": {},
   "outputs": [],
   "source": [
    "# Import the library\n",
    "import pyfabricops as pf\n",
    "\n",
    "# Set the environment variables for authentication\n",
    "pf.set_auth_provider('env')    # See options: https://pyfabricops.readthedocs.io/en/latest/functions/auth/  \n",
    "\n",
    "# Setup logging\n",
    "pf.setup_logging(format_style='minimal')"
   ]
  },
  {
   "cell_type": "code",
   "execution_count": null,
   "id": "55c39193",
   "metadata": {},
   "outputs": [],
   "source": [
    "# Define the workspace name\n",
    "workspace = '_pyfabricops-PRD'\n",
    "\n",
    "# Folder name where the exported items will be saved\n",
    "project_path = './_pyfabricops_synced'"
   ]
  },
  {
   "cell_type": "code",
   "execution_count": null,
   "id": "49e31eaf",
   "metadata": {},
   "outputs": [],
   "source": [
    "# Create the GitHub Source Control connection\n",
    "from dotenv import load_dotenv\n",
    "import os\n",
    "load_dotenv()  # Load environment variables\n",
    "\n",
    "pf.create_github_source_control_connection(\n",
    "    display_name='_pyfabricops_examples', \n",
    "    repository='https://github.com/alisonpezzott/pyfabricops-examples',\n",
    "    github_token=os.getenv('GH_TOKEN'),\n",
    "    df=True\n",
    ")"
   ]
  },
  {
   "cell_type": "code",
   "execution_count": null,
   "id": "27fdaa6b",
   "metadata": {},
   "outputs": [],
   "source": [
    "pf.add_connection_role_assignment(\n",
    "    '_pyfabricops_examples',\n",
    "    user_uuid='b025341a-965a-4c35-b12e-2af63e5eb58f',\n",
    "    user_type='User',  \n",
    "    role='Owner'  \n",
    ")"
   ]
  },
  {
   "cell_type": "code",
   "execution_count": null,
   "id": "9beded00",
   "metadata": {},
   "outputs": [],
   "source": [
    "# Connect to the workspace\n",
    "pf.github_connect(workspace=workspace, \n",
    "    connection='_pyfabricops_examples',\n",
    "    owner_name='alisonpezzott',\n",
    "    repository_name='pyfabricops-examples',\n",
    "    branch_name='main',\n",
    "    directory_name='src/_pyfabricops_synced/workspace'\n",
    ")"
   ]
  },
  {
   "cell_type": "code",
   "execution_count": null,
   "id": "998fc191",
   "metadata": {},
   "outputs": [],
   "source": [
    "# Initialize the git repository in the workspace\n",
    "pf.git_init(workspace)  "
   ]
  },
  {
   "cell_type": "code",
   "execution_count": null,
   "id": "0ae90baf",
   "metadata": {},
   "outputs": [],
   "source": [
    "# Git Status\n",
    "git_status = pf.git_status(workspace)"
   ]
  },
  {
   "cell_type": "code",
   "execution_count": null,
   "id": "4e07533a",
   "metadata": {},
   "outputs": [],
   "source": [
    "# Commit to git\n",
    "pf.commit_to_git(workspace) "
   ]
  },
  {
   "cell_type": "code",
   "execution_count": null,
   "id": "3a91f18c",
   "metadata": {},
   "outputs": [],
   "source": [
    "# Git Status\n",
    "git_status = pf.git_status(workspace)"
   ]
  }
 ],
 "metadata": {
  "kernelspec": {
   "display_name": "pyfabricops-CR-5thhK-py3.12",
   "language": "python",
   "name": "python3"
  },
  "language_info": {
   "codemirror_mode": {
    "name": "ipython",
    "version": 3
   },
   "file_extension": ".py",
   "mimetype": "text/x-python",
   "name": "python",
   "nbconvert_exporter": "python",
   "pygments_lexer": "ipython3",
   "version": "3.12.10"
  }
 },
 "nbformat": 4,
 "nbformat_minor": 5
}
