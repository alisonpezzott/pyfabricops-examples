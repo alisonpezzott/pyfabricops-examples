{
 "cells": [
  {
   "cell_type": "markdown",
   "id": "eb092e74",
   "metadata": {},
   "source": [
    "# Notebook 003: Init source control from existing Fabric workspace to GitHub  "
   ]
  },
  {
   "cell_type": "code",
   "execution_count": 1,
   "id": "45487cc7",
   "metadata": {},
   "outputs": [],
   "source": [
    "# If not installed, run on the command line without the `#`:\n",
    "# pip install pyfabricops "
   ]
  },
  {
   "cell_type": "code",
   "execution_count": null,
   "id": "0e7c2f61",
   "metadata": {},
   "outputs": [],
   "source": [
    "# Import the library\n",
    "import pyfabricops as pf\n",
    "\n",
    "# Set the environment variables for authentication\n",
    "pf.set_auth_provider('env')    # See options: https://pyfabricops.readthedocs.io/en/latest/functions/auth/  \n",
    "\n",
    "# If you are using a Jupyter Notebook, you can enable logging to see debug information\n",
    "import logging\n",
    "pf.enable_notebook_logging() "
   ]
  },
  {
   "cell_type": "code",
   "execution_count": 2,
   "id": "55c39193",
   "metadata": {},
   "outputs": [],
   "source": [
    "# Define the workspace name\n",
    "workspace = '_pyfabricops-PRD'\n",
    "\n",
    "# Folder name where the exported items will be saved\n",
    "project_path = './_pyfabricops_synced'"
   ]
  },
  {
   "cell_type": "code",
   "execution_count": 9,
   "id": "49e31eaf",
   "metadata": {},
   "outputs": [
    {
     "data": {
      "application/vnd.microsoft.datawrangler.viewer.v0+json": {
       "columns": [
        {
         "name": "index",
         "rawType": "int64",
         "type": "integer"
        },
        {
         "name": "id",
         "rawType": "object",
         "type": "string"
        },
        {
         "name": "displayName",
         "rawType": "object",
         "type": "string"
        },
        {
         "name": "gatewayId",
         "rawType": "object",
         "type": "unknown"
        },
        {
         "name": "connectivityType",
         "rawType": "object",
         "type": "string"
        },
        {
         "name": "connectionDetails_path",
         "rawType": "object",
         "type": "string"
        },
        {
         "name": "connectionDetails_type",
         "rawType": "object",
         "type": "string"
        },
        {
         "name": "privacyLevel",
         "rawType": "object",
         "type": "string"
        },
        {
         "name": "credentialDetails_credentialType",
         "rawType": "object",
         "type": "string"
        },
        {
         "name": "credentialDetails_singleSignOnType",
         "rawType": "object",
         "type": "string"
        },
        {
         "name": "credentialDetails_connectionEncryption",
         "rawType": "object",
         "type": "string"
        },
        {
         "name": "credentialDetails_skipTestConnection",
         "rawType": "bool",
         "type": "boolean"
        }
       ],
       "ref": "61e7ac5d-a2de-4467-a77b-95c6d556e13f",
       "rows": [
        [
         "0",
         "4abf9e4f-b50b-4210-9993-cb20f48d65a4",
         "_pyfabricops_examples",
         null,
         "ShareableCloud",
         "https://github.com/alisonpezzott/pyfabricops-examples",
         "GitHubSourceControl",
         "Organizational",
         "Key",
         "None",
         "NotEncrypted",
         "False"
        ]
       ],
       "shape": {
        "columns": 11,
        "rows": 1
       }
      },
      "text/html": [
       "<div>\n",
       "<style scoped>\n",
       "    .dataframe tbody tr th:only-of-type {\n",
       "        vertical-align: middle;\n",
       "    }\n",
       "\n",
       "    .dataframe tbody tr th {\n",
       "        vertical-align: top;\n",
       "    }\n",
       "\n",
       "    .dataframe thead th {\n",
       "        text-align: right;\n",
       "    }\n",
       "</style>\n",
       "<table border=\"1\" class=\"dataframe\">\n",
       "  <thead>\n",
       "    <tr style=\"text-align: right;\">\n",
       "      <th></th>\n",
       "      <th>id</th>\n",
       "      <th>displayName</th>\n",
       "      <th>gatewayId</th>\n",
       "      <th>connectivityType</th>\n",
       "      <th>connectionDetails_path</th>\n",
       "      <th>connectionDetails_type</th>\n",
       "      <th>privacyLevel</th>\n",
       "      <th>credentialDetails_credentialType</th>\n",
       "      <th>credentialDetails_singleSignOnType</th>\n",
       "      <th>credentialDetails_connectionEncryption</th>\n",
       "      <th>credentialDetails_skipTestConnection</th>\n",
       "    </tr>\n",
       "  </thead>\n",
       "  <tbody>\n",
       "    <tr>\n",
       "      <th>0</th>\n",
       "      <td>4abf9e4f-b50b-4210-9993-cb20f48d65a4</td>\n",
       "      <td>_pyfabricops_examples</td>\n",
       "      <td>None</td>\n",
       "      <td>ShareableCloud</td>\n",
       "      <td>https://github.com/alisonpezzott/pyfabricops-e...</td>\n",
       "      <td>GitHubSourceControl</td>\n",
       "      <td>Organizational</td>\n",
       "      <td>Key</td>\n",
       "      <td>None</td>\n",
       "      <td>NotEncrypted</td>\n",
       "      <td>False</td>\n",
       "    </tr>\n",
       "  </tbody>\n",
       "</table>\n",
       "</div>"
      ],
      "text/plain": [
       "                                     id            displayName gatewayId  \\\n",
       "0  4abf9e4f-b50b-4210-9993-cb20f48d65a4  _pyfabricops_examples      None   \n",
       "\n",
       "  connectivityType                             connectionDetails_path  \\\n",
       "0   ShareableCloud  https://github.com/alisonpezzott/pyfabricops-e...   \n",
       "\n",
       "  connectionDetails_type    privacyLevel credentialDetails_credentialType  \\\n",
       "0    GitHubSourceControl  Organizational                              Key   \n",
       "\n",
       "  credentialDetails_singleSignOnType credentialDetails_connectionEncryption  \\\n",
       "0                               None                           NotEncrypted   \n",
       "\n",
       "   credentialDetails_skipTestConnection  \n",
       "0                                 False  "
      ]
     },
     "execution_count": 9,
     "metadata": {},
     "output_type": "execute_result"
    }
   ],
   "source": [
    "# Create the GitHub Source Control connection\n",
    "from dotenv import load_dotenv\n",
    "import os\n",
    "load_dotenv()  # Load environment variables\n",
    "\n",
    "pf.create_github_source_control_connection(\n",
    "    display_name='_pyfabricops_examples', \n",
    "    repository='https://github.com/alisonpezzott/pyfabricops-examples',\n",
    "    github_token=os.getenv('GH_TOKEN'),\n",
    "    df=True\n",
    ")"
   ]
  },
  {
   "cell_type": "code",
   "execution_count": 20,
   "id": "27fdaa6b",
   "metadata": {},
   "outputs": [
    {
     "data": {
      "text/plain": [
       "{'id': 'b025341a-965a-4c35-b12e-2af63e5eb58f',\n",
       " 'principal': {'id': 'b025341a-965a-4c35-b12e-2af63e5eb58f', 'type': 'User'},\n",
       " 'role': 'Owner'}"
      ]
     },
     "execution_count": 20,
     "metadata": {},
     "output_type": "execute_result"
    }
   ],
   "source": [
    "pf.add_connection_role_assignment(\n",
    "    '_pyfabricops_examples',\n",
    "    user_uuid='b025341a-965a-4c35-b12e-2af63e5eb58f',\n",
    "    user_type='User',  \n",
    "    role='Owner'  \n",
    ")"
   ]
  },
  {
   "cell_type": "code",
   "execution_count": 3,
   "id": "9beded00",
   "metadata": {},
   "outputs": [
    {
     "name": "stderr",
     "output_type": "stream",
     "text": [
      "src.pyfabricops._git INFO: Successfully connected GitHub repository 'pyfabricops-examples' to workspace 'a6f837e7-7cd8-4ea7-bc5b-2898f3c85704'.\n"
     ]
    },
    {
     "data": {
      "text/plain": [
       "True"
      ]
     },
     "execution_count": 3,
     "metadata": {},
     "output_type": "execute_result"
    }
   ],
   "source": [
    "# Connect to the workspace\n",
    "pf.github_connect(workspace=workspace, \n",
    "    connection='_pyfabricops_examples',\n",
    "    owner_name='alisonpezzott',\n",
    "    repository_name='pyfabricops-examples',\n",
    "    branch_name='main',\n",
    "    directory_name='src/_pyfabricops_synced/workspace'\n",
    ")"
   ]
  },
  {
   "cell_type": "code",
   "execution_count": 3,
   "id": "998fc191",
   "metadata": {},
   "outputs": [
    {
     "name": "stderr",
     "output_type": "stream",
     "text": [
      "src.pyfabricops._git INFO: Successfully initialized Git connection for workspace.\n"
     ]
    },
    {
     "data": {
      "text/plain": [
       "{'requiredAction': 'CommitToGit',\n",
       " 'workspaceHead': 'fc0337ac1561cfcf988b4557bb107fd9028e42c4',\n",
       " 'remoteCommitHash': None}"
      ]
     },
     "execution_count": 3,
     "metadata": {},
     "output_type": "execute_result"
    }
   ],
   "source": [
    "# Initialize the git repository in the workspace\n",
    "pf.git_init(workspace)  "
   ]
  },
  {
   "cell_type": "code",
   "execution_count": 3,
   "id": "0ae90baf",
   "metadata": {},
   "outputs": [
    {
     "name": "stderr",
     "output_type": "stream",
     "text": [
      "src.pyfabricops._git INFO: Successfully initialized Git connection for workspace.\n"
     ]
    }
   ],
   "source": [
    "# Git Status\n",
    "git_status = pf.git_status(workspace)"
   ]
  },
  {
   "cell_type": "code",
   "execution_count": 4,
   "id": "4e07533a",
   "metadata": {},
   "outputs": [
    {
     "name": "stderr",
     "output_type": "stream",
     "text": [
      "src.pyfabricops._git WARNING: 400: {\"requestId\":\"23257a04-0efe-4544-9fa5-354ac86e5a22\",\"errorCode\":\"OperationHasNoResult\",\"message\":\"The operation has no result\"}.\n"
     ]
    }
   ],
   "source": [
    "# Commit to git\n",
    "pf.commit_to_git(workspace) "
   ]
  },
  {
   "cell_type": "code",
   "execution_count": 6,
   "id": "3a91f18c",
   "metadata": {},
   "outputs": [
    {
     "name": "stderr",
     "output_type": "stream",
     "text": [
      "src.pyfabricops._git INFO: Successfully initialized Git connection for workspace.\n"
     ]
    }
   ],
   "source": [
    "# Git Status\n",
    "git_status = pf.git_status(workspace)"
   ]
  }
 ],
 "metadata": {
  "kernelspec": {
   "display_name": "pyfabricops-CR-5thhK-py3.12",
   "language": "python",
   "name": "python3"
  },
  "language_info": {
   "codemirror_mode": {
    "name": "ipython",
    "version": 3
   },
   "file_extension": ".py",
   "mimetype": "text/x-python",
   "name": "python",
   "nbconvert_exporter": "python",
   "pygments_lexer": "ipython3",
   "version": "3.12.10"
  }
 },
 "nbformat": 4,
 "nbformat_minor": 5
}
