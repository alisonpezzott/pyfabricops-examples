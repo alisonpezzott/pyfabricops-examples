{
 "cells": [
  {
   "cell_type": "code",
   "execution_count": 1,
   "id": "29cee3ab",
   "metadata": {},
   "outputs": [],
   "source": [
    "# Parameters \n",
    "project = 'PowerBIDemo'\n",
    "project_path = f'../src/{project}'"
   ]
  },
  {
   "cell_type": "code",
   "execution_count": 2,
   "id": "8afc7a04",
   "metadata": {},
   "outputs": [],
   "source": [
    "# Libraries\n",
    "import pyfabricops as pf\n",
    "pf.enable_notebook_logging()\n",
    "pf.set_auth_provider('env') \n",
    "\n",
    "import json"
   ]
  },
  {
   "cell_type": "code",
   "execution_count": 3,
   "id": "96492a82",
   "metadata": {},
   "outputs": [
    {
     "name": "stdout",
     "output_type": "stream",
     "text": [
      "dev\n",
      "-DEV\n"
     ]
    }
   ],
   "source": [
    "# Relative paths\n",
    "branch = pf.get_current_branch() \n",
    "print(branch)\n",
    "\n",
    "branches_path = '../branches.json'\n",
    "\n",
    "workspace_suffix = pf.get_workspace_suffix(path=branches_path)  \n",
    "print(workspace_suffix)"
   ]
  },
  {
   "cell_type": "code",
   "execution_count": 4,
   "id": "189d22f5",
   "metadata": {},
   "outputs": [],
   "source": [
    "workspace_name = project + workspace_suffix"
   ]
  },
  {
   "cell_type": "code",
   "execution_count": 5,
   "id": "f72bf17c",
   "metadata": {},
   "outputs": [
    {
     "name": "stdout",
     "output_type": "stream",
     "text": [
      "Workspace ID: 176fdb74-7b5b-455e-b6cf-4779b0a4c6ac\n"
     ]
    }
   ],
   "source": [
    "# Retrienving the workspace_id from config.json in the project_path for better performance\n",
    "config_path = f'{project_path}/config.json'\n",
    "with open(config_path, 'r') as f:\n",
    "  config_content = json.load(f)\n",
    "  config = config_content[branch]  \n",
    "  workspace_id = config[project]['workspace_config']['workspace_id'] \n",
    "print(f'Workspace ID: {workspace_id}')"
   ]
  },
  {
   "cell_type": "code",
   "execution_count": 8,
   "id": "4a758a5e",
   "metadata": {},
   "outputs": [
    {
     "name": "stderr",
     "output_type": "stream",
     "text": [
      "pyfabricops._folders INFO: Found 2 folders containing Fabric artifacts\n",
      "pyfabricops._folders WARNING: 409: {\"requestId\":\"7da0083f-8433-4170-b01c-88e0724eb380\",\"errorCode\":\"FolderDisplayNameAlreadyInUse\",\"message\":\"Folder display name is already used.\"}.\n",
      "pyfabricops._folders WARNING: 409: {\"requestId\":\"ad7ff3d5-b5fb-4abd-b6e9-45bb2987f7c9\",\"errorCode\":\"FolderDisplayNameAlreadyInUse\",\"message\":\"Folder display name is already used.\"}.\n",
      "pyfabricops._folders INFO: Created folders for workspace 176fdb74-7b5b-455e-b6cf-4779b0a4c6ac.\n",
      "pyfabricops._folders INFO: Updated folders config for workspace \"PowerBIDemo\" in branch \"dev\"\n",
      "pyfabricops._folders INFO: Folders configuration successfully written to ../src/PowerBIDemo\\config.json.\n"
     ]
    }
   ],
   "source": [
    "# Deploy the folders first.\n",
    "pf.deploy_folders(\n",
    "    workspace=workspace_id, \n",
    "    project_path=project_path,\n",
    "    branches_path=branches_path,\n",
    "  )  "
   ]
  },
  {
   "cell_type": "code",
   "execution_count": 10,
   "id": "ecf51c3b",
   "metadata": {},
   "outputs": [
    {
     "name": "stderr",
     "output_type": "stream",
     "text": [
      "pyfabricops._semantic_models WARNING: No valid semantic models found in workspace '176fdb74-7b5b-455e-b6cf-4779b0a4c6ac'.\n",
      "pyfabricops._semantic_models INFO: Creating new semantic model: Sales\n",
      "pyfabricops._semantic_models INFO: Successfully created semantic model 'Sales'\n",
      "pyfabricops._semantic_models WARNING: No valid semantic models found in workspace '176fdb74-7b5b-455e-b6cf-4779b0a4c6ac'.\n"
     ]
    }
   ],
   "source": [
    "# Deploy the semantic model\n",
    "pf.deploy_semantic_model(\n",
    "    workspace=workspace_id, \n",
    "    display_name='Sales',\n",
    "    project_path=project_path,\n",
    "    branches_path=branches_path,\n",
    ")"
   ]
  },
  {
   "cell_type": "code",
   "execution_count": 11,
   "id": "dc72bc97",
   "metadata": {},
   "outputs": [
    {
     "name": "stderr",
     "output_type": "stream",
     "text": [
      "pyfabricops._semantic_models INFO: Found existing config file at ../src/PowerBIDemo\\config.json, merging workspace config...\n",
      "pyfabricops._utils INFO: Item definition unpacked to ../src/PowerBIDemo\\workspace\\Main/Sales.SemanticModel\n"
     ]
    }
   ],
   "source": [
    "# Retrieving the semantic_model_details\n",
    "pf.export_semantic_model(\n",
    "    workspace=workspace_id, \n",
    "    semantic_model='Sales',\n",
    "    project_path=project_path,\n",
    "    branches_path=branches_path,\n",
    ")"
   ]
  },
  {
   "cell_type": "code",
   "execution_count": 27,
   "id": "9dd158a8",
   "metadata": {},
   "outputs": [
    {
     "name": "stdout",
     "output_type": "stream",
     "text": [
      "Sales\n"
     ]
    }
   ],
   "source": [
    "import re\n",
    "\n",
    "with open(f'{project_path}/workspace/Main/Sales.Report/definition.pbir', 'r') as f:\n",
    "    report_definition = json.load(f)\n",
    "\n",
    "dataset_reference = report_definition['datasetReference']\n",
    "\n",
    "if 'byPath' in dataset_reference:\n",
    "    dataset_path = dataset_reference['byPath']['path'] \n",
    "    dataset_name = dataset_path.split('/')[-1].split('.SemanticModel')[0]\n",
    "\n",
    "elif 'byConnection' in dataset_reference:\n",
    "    text_to_search = dataset_reference['byConnection']['connectionString']\n",
    "    # Capture the value after \"initial catalog=\"\n",
    "    match = re.search(r'initial catalog=([^;]+)', text_to_search)\n",
    "    if match:\n",
    "      dataset_name = match.group(1)\n",
    "\n",
    "print(dataset_name)"
   ]
  },
  {
   "cell_type": "code",
   "execution_count": 28,
   "id": "4dd42a54",
   "metadata": {},
   "outputs": [
    {
     "name": "stdout",
     "output_type": "stream",
     "text": [
      "Semantic Model ID: 6dd8bff3-110f-4517-af8e-2ecbad8a7159\n"
     ]
    }
   ],
   "source": [
    "# Search for the semantic model in the config.json\n",
    "with open(config_path, 'r') as f:\n",
    "    config_content = json.load(f)\n",
    "    config = config_content[branch]\n",
    "    semantic_model_id = config[project]['semantic_models'][dataset_name]['id'] \n",
    "print(f'Semantic Model ID: {semantic_model_id}')    "
   ]
  },
  {
   "cell_type": "code",
   "execution_count": 29,
   "id": "0cd328b9",
   "metadata": {},
   "outputs": [
    {
     "name": "stdout",
     "output_type": "stream",
     "text": [
      "{\n",
      "  \"$schema\": \"https://developer.microsoft.com/json-schemas/fabric/item/report/definitionProperties/1.0.0/schema.json\",\n",
      "  \"version\": \"4.0\",\n",
      "  \"datasetReference\": {\n",
      "    \"byConnection\": {\n",
      "      \"connectionString\": \"Data Source=powerbi://api.powerbi.com/v1.0/myorg/PowerBIDemo-DEV;initial catalog=Sales;integrated security=ClaimsToken\",\n",
      "      \"pbiServiceModelId\": null,\n",
      "      \"pbiModelVirtualServerName\": \"sobe_wowvirtualserver\",\n",
      "      \"pbiModelDatabaseName\": \"6dd8bff3-110f-4517-af8e-2ecbad8a7159\",\n",
      "      \"name\": \"EntityDataSource\",\n",
      "      \"connectionType\": \"pbiServiceXmlaStyleLive\"\n",
      "    }\n",
      "  }\n",
      "}\n"
     ]
    }
   ],
   "source": [
    "# Replace the definition.pbir with the updated template\n",
    "with open(f'../template_report_definition.pbir', 'r', encoding='utf-8') as f:\n",
    "    report_definition_template = f.read()\n",
    "\n",
    "report_definition_updated = report_definition_template.replace('{workspace_name}', workspace_name)\n",
    "report_definition_updated = report_definition_updated.replace('{semantic_model_name}', dataset_name)\n",
    "report_definition_updated = report_definition_updated.replace('{semantic_model_id}', semantic_model_id)\n",
    "print(report_definition_updated)    \n",
    "\n",
    "with open(f'{project_path}/workspace/Main/Sales.Report/definition.pbir', 'w', encoding='utf-8') as f:\n",
    "    f.write(report_definition_updated)\n"
   ]
  },
  {
   "cell_type": "code",
   "execution_count": 30,
   "id": "4881a7c9",
   "metadata": {},
   "outputs": [
    {
     "name": "stderr",
     "output_type": "stream",
     "text": [
      "pyfabricops._reports INFO: Creating new report: Sales\n",
      "pyfabricops._reports INFO: Successfully created report 'Sales'\n"
     ]
    },
    {
     "data": {
      "text/plain": [
       "{'id': 'ec2c4cce-50d5-4735-9c97-31beab5da7d6',\n",
       " 'type': 'Report',\n",
       " 'displayName': 'Sales',\n",
       " 'description': '',\n",
       " 'workspaceId': '176fdb74-7b5b-455e-b6cf-4779b0a4c6ac',\n",
       " 'folderId': 'c891b756-ecfc-4c4c-8d87-53fd5780caa7'}"
      ]
     },
     "execution_count": 30,
     "metadata": {},
     "output_type": "execute_result"
    }
   ],
   "source": [
    "# Deploy the report\n",
    "pf.deploy_report(\n",
    "    workspace=workspace_id, \n",
    "    display_name='Sales',\n",
    "    project_path=project_path,\n",
    "    branches_path=branches_path,\n",
    ")\n"
   ]
  },
  {
   "cell_type": "code",
   "execution_count": 31,
   "id": "57fbf4b5",
   "metadata": {},
   "outputs": [],
   "source": [
    "# Retornar o report_definition original para o arquivo .pbir\n",
    "with open(f'{project_path}/workspace/Main/Sales.Report/definition.pbir', 'w', encoding='utf-8') as f:\n",
    "  json.dump(report_definition, f, indent=2)"
   ]
  },
  {
   "cell_type": "code",
   "execution_count": 40,
   "id": "0e28c09b",
   "metadata": {},
   "outputs": [
    {
     "name": "stdout",
     "output_type": "stream",
     "text": [
      "Processing report: ../src/PowerBIDemo\\workspace\\Customers\\Customers.Report\n",
      "Deploying report: Customers\n",
      "Semantic model: Sales\n",
      "Semantic Model ID: 6dd8bff3-110f-4517-af8e-2ecbad8a7159\n"
     ]
    },
    {
     "name": "stderr",
     "output_type": "stream",
     "text": [
      "pyfabricops._reports INFO: Report 'Customers' already exists, updating...\n",
      "pyfabricops._reports INFO: Successfully updated report 'Customers'\n"
     ]
    },
    {
     "name": "stdout",
     "output_type": "stream",
     "text": [
      "Processing report: ../src/PowerBIDemo\\workspace\\Main\\Sales.Report\n",
      "Deploying report: Sales\n",
      "Semantic model: Sales\n",
      "Semantic Model ID: 6dd8bff3-110f-4517-af8e-2ecbad8a7159\n"
     ]
    },
    {
     "name": "stderr",
     "output_type": "stream",
     "text": [
      "pyfabricops._reports INFO: Report 'Sales' already exists, updating...\n",
      "pyfabricops._reports INFO: Successfully updated report 'Sales'\n"
     ]
    }
   ],
   "source": [
    "# For each report, we will define the report attached to the semantic model and deploy it.\n",
    "import glob \n",
    "import re\n",
    "\n",
    "for report_path in glob.glob(f'{project_path}/**/*.Report', recursive=True):\n",
    "\tprint(f'Processing report: {report_path}')\n",
    "\treport_name = report_path.replace('\\\\', '/').split('/')[-1].split('.Report')[0] \n",
    "\tprint(f'Deploying report: {report_name}')\n",
    "\n",
    "\twith open(f'{report_path}/definition.pbir', 'r') as f:\n",
    "\t\treport_definition = json.load(f)\n",
    "\n",
    "\tdataset_reference = report_definition['datasetReference']\n",
    "\n",
    "\tif 'byPath' in dataset_reference:\n",
    "\t\tdataset_path = dataset_reference['byPath']['path'] \n",
    "\t\tdataset_name = dataset_path.split('/')[-1].split('.SemanticModel')[0]\n",
    "\n",
    "\telif 'byConnection' in dataset_reference:\n",
    "\t\ttext_to_search = dataset_reference['byConnection']['connectionString']\n",
    "\t\t# Capture the value after \"initial catalog=\"\n",
    "\t\tmatch = re.search(r'initial catalog=([^;]+)', text_to_search)\n",
    "\t\tif match:\n",
    "\t\t\tdataset_name = match.group(1)\n",
    "\n",
    "\tprint(f'Semantic model: {dataset_name}')\n",
    "\t\n",
    "\t# Search for the semantic model in the config.json\n",
    "\twith open(config_path, 'r') as f:\n",
    "\t\tconfig_content = json.load(f)\n",
    "\tconfig = config_content[branch]\n",
    "\tsemantic_model_id = config[project]['semantic_models'][dataset_name]['id'] \n",
    "\tprint(f'Semantic Model ID: {semantic_model_id}')  \n",
    "\t\n",
    "\t# Replace the definition.pbir with the updated template\n",
    "\twith open(f'../template_report_definition.pbir', 'r', encoding='utf-8') as f:\n",
    "\t\treport_definition_template = f.read()\n",
    "\n",
    "\treport_definition_updated = report_definition_template.replace('{workspace_name}', workspace_name)\n",
    "\treport_definition_updated = report_definition_updated.replace('{semantic_model_name}', dataset_name)\n",
    "\treport_definition_updated = report_definition_updated.replace('{semantic_model_id}', semantic_model_id)\n",
    "\t# print(report_definition_updated)    \n",
    "\n",
    "\twith open(f'{report_path}/definition.pbir', 'w', encoding='utf-8') as f:\n",
    "\t\tf.write(report_definition_updated)\n",
    "\t\n",
    "\t# Deploy the report\n",
    "\tpf.deploy_report(\n",
    "\t\tworkspace=workspace_id, \n",
    "\t\tdisplay_name=report_name,\n",
    "\t\tproject_path=project_path,\n",
    "\t\tbranches_path=branches_path,\n",
    "\t)\n",
    "\t\n",
    "\t# Write back the original report_definition for the definition.pbir\n",
    "\twith open(f'{report_path}/definition.pbir', 'w', encoding='utf-8') as f:\n",
    "\t\tjson.dump(report_definition, f, indent=2)\n"
   ]
  },
  {
   "cell_type": "code",
   "execution_count": 41,
   "id": "15e693f9",
   "metadata": {},
   "outputs": [
    {
     "name": "stderr",
     "output_type": "stream",
     "text": [
      "pyfabricops._reports INFO: Found existing config file at ../src/PowerBIDemo\\config.json, merging workspace config...\n",
      "pyfabricops._utils INFO: Item definition unpacked to ../src/PowerBIDemo\\workspace\\Customers/Customers.Report\n",
      "pyfabricops._reports INFO: Found existing config file at ../src/PowerBIDemo\\config.json, merging workspace config...\n",
      "pyfabricops._utils INFO: Item definition unpacked to ../src/PowerBIDemo\\workspace\\Main/Sales.Report\n",
      "pyfabricops._dataflows_gen1 INFO: Exported dataflow Calendar to ../src/PowerBIDemo\\workspace\\Calendar.Dataflow.\n",
      "pyfabricops._dataflows_gen1 INFO: Found existing config file at ../src/PowerBIDemo\\config.json, merging workspace config...\n"
     ]
    }
   ],
   "source": [
    "# Extract the reports and dataflows from the workspace to update config.json\n",
    "pf.export_all_reports(\n",
    "\tworkspace=workspace_id, \n",
    "\tproject_path=project_path,\n",
    "\tbranches_path=branches_path,\n",
    ")\n",
    "\n",
    "pf.export_all_dataflows_gen1(\n",
    "    workspace=workspace_id, \n",
    "\tproject_path=project_path,\n",
    "\tbranches_path=branches_path,\n",
    ")"
   ]
  },
  {
   "cell_type": "code",
   "execution_count": 42,
   "id": "4973e7be",
   "metadata": {},
   "outputs": [
    {
     "data": {
      "text/plain": [
       "CompletedProcess(args=['git', 'commit', '-m', 'feat: PowerBIDemo: Development done for the semantic model and reports'], returncode=0)"
      ]
     },
     "execution_count": 42,
     "metadata": {},
     "output_type": "execute_result"
    }
   ],
   "source": [
    "import subprocess\n",
    "\n",
    "message = f'feat: {project}: Development done for the semantic model and reports'\n",
    "\n",
    "# Git commit and checkout to new branch to start development\n",
    "# Add  the project path to git\n",
    "subprocess.run(['git', 'add', project_path])\n",
    "\n",
    "# Commit the changes\n",
    "subprocess.run(['git', 'commit', '-m', message]) "
   ]
  }
 ],
 "metadata": {
  "kernelspec": {
   "display_name": "Python 3",
   "language": "python",
   "name": "python3"
  },
  "language_info": {
   "codemirror_mode": {
    "name": "ipython",
    "version": 3
   },
   "file_extension": ".py",
   "mimetype": "text/x-python",
   "name": "python",
   "nbconvert_exporter": "python",
   "pygments_lexer": "ipython3",
   "version": "3.12.10"
  }
 },
 "nbformat": 4,
 "nbformat_minor": 5
}
