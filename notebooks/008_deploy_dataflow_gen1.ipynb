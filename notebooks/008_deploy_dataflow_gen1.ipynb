{
 "cells": [
  {
   "cell_type": "code",
   "execution_count": 1,
   "id": "29cee3ab",
   "metadata": {},
   "outputs": [],
   "source": [
    "# Parameters \n",
    "project = 'PowerBIDemo'\n",
    "project_path = f'../src/{project}'"
   ]
  },
  {
   "cell_type": "code",
   "execution_count": 2,
   "id": "8afc7a04",
   "metadata": {},
   "outputs": [],
   "source": [
    "# Libraries\n",
    "import pyfabricops as pf\n",
    "pf.enable_notebook_logging()\n",
    "pf.set_auth_provider('env') \n",
    "\n",
    "import json"
   ]
  },
  {
   "cell_type": "code",
   "execution_count": null,
   "id": "96492a82",
   "metadata": {},
   "outputs": [
    {
     "name": "stdout",
     "output_type": "stream",
     "text": [
      "dev\n",
      "-DEV\n"
     ]
    }
   ],
   "source": [
    "# Relative paths\n",
    "branch = pf.get_current_branch() \n",
    "print(branch)\n",
    "\n",
    "branches_path = '../branches.json'\n",
    "\n",
    "workspace_suffix = pf.get_workspace_suffix(path=branches_path)  \n",
    "print(workspace_suffix)"
   ]
  },
  {
   "cell_type": "code",
   "execution_count": 4,
   "id": "de76c2b3",
   "metadata": {},
   "outputs": [],
   "source": [
    "# Set the workspace\n",
    "workspace_name = project + workspace_suffix"
   ]
  },
  {
   "cell_type": "markdown",
   "id": "ff67cc37",
   "metadata": {},
   "source": [
    "> [!IMPORTANT] \n",
    "> I  would like to suggest that you create a folder named `workspace` under the project root directory. This folder will be the clone of the repository for the Power BI project. For the next step, for example, I will put a dataflow generation 1 for deploy to the workspace on Power BI Service.\n"
   ]
  },
  {
   "cell_type": "code",
   "execution_count": 5,
   "id": "4a758a5e",
   "metadata": {},
   "outputs": [
    {
     "name": "stderr",
     "output_type": "stream",
     "text": [
      "pyfabricops._utils INFO: Loaded JSON file with json5: ../src/PowerBIDemo/workspace/Calendar.Dataflow\\model.json\n",
      "pyfabricops._dataflows_gen1 INFO: Dataflow deployed successfully.\n"
     ]
    },
    {
     "data": {
      "text/plain": [
       "True"
      ]
     },
     "execution_count": 5,
     "metadata": {},
     "output_type": "execute_result"
    }
   ],
   "source": [
    "# Deploy the dataflow to the workspace\n",
    "pf.deploy_dataflow_gen1(\n",
    "    workspace=workspace_name, \n",
    "    path=f'{project_path}/workspace/Calendar.Dataflow',\n",
    "  )  "
   ]
  },
  {
   "cell_type": "markdown",
   "id": "01062aec",
   "metadata": {},
   "source": [
    "> [!NOTE] After this you will develop the semantic model and reports and commit at the end.  Like suggestion you can use the next cell to add and commit the changes to the repository."
   ]
  },
  {
   "cell_type": "code",
   "execution_count": null,
   "id": "4973e7be",
   "metadata": {},
   "outputs": [],
   "source": [
    "import subprocess\n",
    "\n",
    "message = f'feat: {project}: Development done for the semantic model and reports'\n",
    "\n",
    "# Git commit and checkout to new branch to start development\n",
    "# Add  the project path to git\n",
    "subprocess.run(['git', 'add', project_path])\n",
    "\n",
    "# Commit the changes\n",
    "subprocess.run(['git', 'commit', '-m', message]) "
   ]
  }
 ],
 "metadata": {
  "kernelspec": {
   "display_name": "Python 3",
   "language": "python",
   "name": "python3"
  },
  "language_info": {
   "codemirror_mode": {
    "name": "ipython",
    "version": 3
   },
   "file_extension": ".py",
   "mimetype": "text/x-python",
   "name": "python",
   "nbconvert_exporter": "python",
   "pygments_lexer": "ipython3",
   "version": "3.12.10"
  }
 },
 "nbformat": 4,
 "nbformat_minor": 5
}
