{
 "cells": [
  {
   "cell_type": "code",
   "execution_count": null,
   "id": "b924b37c",
   "metadata": {},
   "outputs": [],
   "source": [
    "# Importing libraries\n",
    "import pyfabricops as pf\n",
    "pf.set_auth_provider('env') \n",
    "\n",
    "# Setup logging\n",
    "pf.setup_logging(format_style='minimal')"
   ]
  },
  {
   "cell_type": "code",
   "execution_count": null,
   "id": "6cee5a55",
   "metadata": {},
   "outputs": [],
   "source": [
    "# List available gateways\n",
    "gateways = pf.list_gateways()\n",
    "gateways "
   ]
  },
  {
   "cell_type": "code",
   "execution_count": null,
   "id": "cff08460",
   "metadata": {},
   "outputs": [],
   "source": [
    "# Write gateways to gateways.json\n",
    "import json\n",
    "\n",
    "if not gateways:\n",
    "  print('No available gateways.')\n",
    "\n",
    "path = \"../gateways.json\"\n",
    "\n",
    "gateways_list = []\n",
    "\n",
    "for gateway in gateways:\n",
    "    gateway_data = {}\n",
    "    gateway_name = gateway['displayName']\n",
    "    if gateway_name not in gateways_list:\n",
    "      gateway_data = {}\n",
    "    gateway_data[gateway_name] = gateway\n",
    "    gateways_list.append(gateway_data)\n",
    "\n",
    "with open(path, 'w', encoding='utf-8') as f:\n",
    "   json.dump(gateways_list, f, indent=4)\n",
    "\n",
    "print(f'Available gateways exported to {path} successfully.')"
   ]
  }
 ],
 "metadata": {
  "kernelspec": {
   "display_name": "Python 3",
   "language": "python",
   "name": "python3"
  },
  "language_info": {
   "codemirror_mode": {
    "name": "ipython",
    "version": 3
   },
   "file_extension": ".py",
   "mimetype": "text/x-python",
   "name": "python",
   "nbconvert_exporter": "python",
   "pygments_lexer": "ipython3",
   "version": "3.12.10"
  }
 },
 "nbformat": 4,
 "nbformat_minor": 5
}
