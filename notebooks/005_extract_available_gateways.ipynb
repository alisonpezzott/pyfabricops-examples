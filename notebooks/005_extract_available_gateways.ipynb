{
 "cells": [
  {
   "cell_type": "code",
   "execution_count": 1,
   "id": "b924b37c",
   "metadata": {},
   "outputs": [],
   "source": [
    "# Importing libraries\n",
    "import pyfabricops as pf\n",
    "pf.set_auth_provider('env') \n",
    "\n",
    "import logging\n",
    "pf.enable_notebook_logging() "
   ]
  },
  {
   "cell_type": "code",
   "execution_count": 2,
   "id": "6cee5a55",
   "metadata": {},
   "outputs": [
    {
     "data": {
      "text/plain": [
       "[{'displayName': 'Galaxy Book3 Ultra',\n",
       "  'numberOfMemberGateways': 1,\n",
       "  'loadBalancingSetting': 'DistributeEvenly',\n",
       "  'allowCloudConnectionRefresh': True,\n",
       "  'allowCustomConnectors': True,\n",
       "  'publicKey': {'exponent': 'AQAB',\n",
       "   'modulus': 'u72k3I66vqZwdtHYTeSu6eTnXARnYwifvxHh3l34xmX0Iwpjr9Qpl5TTbcA7WeAY/Sln0UjhFz2TeamwcYwlKr8uByaWEiV5googZRD0YWsNcrjk8UJcUy3uZs9n5UMBWhylneHsQKUKH0UQNVxNov7g+pKnWTfGHvZBgkz2RN/FGpv1lVRLagfLBrs9ZX9/CW29sFqNElE5D2+AN8yC+Wko37f4zjhuNSg1mDhyLS5GduArxieiyRhWvJDARoR+8/zP3OCR4Hbt72aWdY0PSa97wxiTlBXio8k2++09TVaikRfHLbEJ9JQ7rQGvoROcgrjB5ldcBLaPptsGVpbwlQ=='},\n",
       "  'version': '3000.274.3',\n",
       "  'id': '7a27d5f4-081f-446c-90dd-031835787c0c',\n",
       "  'type': 'OnPremises'}]"
      ]
     },
     "execution_count": 2,
     "metadata": {},
     "output_type": "execute_result"
    }
   ],
   "source": [
    "# List available gateways\n",
    "gateways = pf.list_gateways()\n",
    "gateways "
   ]
  },
  {
   "cell_type": "code",
   "execution_count": null,
   "id": "cff08460",
   "metadata": {},
   "outputs": [
    {
     "name": "stdout",
     "output_type": "stream",
     "text": [
      "Available gateways exported to ../gateways.json successfully.\n"
     ]
    }
   ],
   "source": [
    "# Write gateways to gateways.json\n",
    "import json\n",
    "\n",
    "if not gateways:\n",
    "  print('No available gateways.')\n",
    "\n",
    "path = \"../gateways.json\"\n",
    "\n",
    "gateways_list = []\n",
    "\n",
    "for gateway in gateways:\n",
    "    gateway_data = {}\n",
    "    gateway_name = gateway['displayName']\n",
    "    if gateway_name not in gateways_list:\n",
    "      gateway_data = {}\n",
    "    gateway_data[gateway_name] = gateway\n",
    "    gateways_list.append(gateway_data)\n",
    "\n",
    "with open(path, 'w', encoding='utf-8') as f:\n",
    "   json.dump(gateways_list, f, indent=4)\n",
    "\n",
    "print(f'Available gateways exported to {path} successfully.')"
   ]
  }
 ],
 "metadata": {
  "kernelspec": {
   "display_name": "Python 3",
   "language": "python",
   "name": "python3"
  },
  "language_info": {
   "codemirror_mode": {
    "name": "ipython",
    "version": 3
   },
   "file_extension": ".py",
   "mimetype": "text/x-python",
   "name": "python",
   "nbconvert_exporter": "python",
   "pygments_lexer": "ipython3",
   "version": "3.12.10"
  }
 },
 "nbformat": 4,
 "nbformat_minor": 5
}
