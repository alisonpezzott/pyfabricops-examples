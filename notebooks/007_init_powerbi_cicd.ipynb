{
 "cells": [
  {
   "cell_type": "markdown",
   "id": "8c8c2d9e",
   "metadata": {},
   "source": [
    "# 007: Notebook to initialize Power BI CI/CD with PyFabricOps \n"
   ]
  },
  {
   "cell_type": "code",
   "execution_count": null,
   "id": "8afc7a04",
   "metadata": {},
   "outputs": [],
   "source": [
    "# Libraries\n",
    "import json\n",
    "import os\n",
    "import pyfabricops as pf\n",
    "\n",
    "# Enable logging and set authentication provider\n",
    "pf.enable_notebook_logging() # Enable logging for notebook\n",
    "pf.set_auth_provider('env') \n",
    "\n",
    "# Get repo root - works in Jupyter notebooks\n",
    "repo_root = os.path.abspath('..')  # Goes up one level from notebooks folder\n",
    "project = 'PowerBIDemo'\n",
    "project_path = os.path.join(repo_root, 'src', project)\n",
    "print(f\"Project path: {project_path}\")\n",
    "\n",
    "# Define branches configuration path\n",
    "branches_path = os.path.join(repo_root, 'branches.json')\n",
    "print(f\"Branches configuration path: {branches_path}\")\n",
    "\n",
    "# Load branches configuration\n",
    "branch = pf.get_current_branch()\n",
    "workspace_suffix = pf.get_workspace_suffix(path=branches_path)\n",
    "\n",
    "# Define workspace name based on project and branch\n",
    "workspace_name = project + workspace_suffix\n",
    "print(f'Branch: {branch}, Workspace: {workspace_name}') "
   ]
  },
  {
   "cell_type": "code",
   "execution_count": null,
   "id": "de76c2b3",
   "metadata": {},
   "outputs": [],
   "source": [
    "# Create workspace, assign roles and extract configuration\n",
    "\n",
    "# Extract workspace roles configuration\n",
    "workspace_roles_path = os.path.join(repo_root, 'workspaces_roles.json')\n",
    "print(f\"Workspace roles configuration path: {workspace_roles_path}\")\n",
    "with open(workspace_roles_path, 'r', encoding='utf-8') as f:\n",
    "    roles = json.load(f)\n",
    "\n",
    "# Create workspace and assign roles\n",
    "pf.create_workspace(\n",
    "    workspace_name, \n",
    "    description='First Power BI Project with PyFabricOps', \n",
    "\troles=roles,\n",
    ")\n",
    "\n",
    "# Export workspace configuration\n",
    "pf.export_workspace_config(\n",
    "    workspace_name, \n",
    "    project_path, \n",
    "    branches_path=branches_path,\n",
    ")  "
   ]
  },
  {
   "cell_type": "markdown",
   "id": "61c22127",
   "metadata": {},
   "source": [
    "> [!NOTE] Now build your Power BI project! Deploy to Fabric (with notebook 008) and Pull request to main branch."
   ]
  }
 ],
 "metadata": {
  "kernelspec": {
   "display_name": "Python 3",
   "language": "python",
   "name": "python3"
  },
  "language_info": {
   "codemirror_mode": {
    "name": "ipython",
    "version": 3
   },
   "file_extension": ".py",
   "mimetype": "text/x-python",
   "name": "python",
   "nbconvert_exporter": "python",
   "pygments_lexer": "ipython3",
   "version": "3.12.10"
  }
 },
 "nbformat": 4,
 "nbformat_minor": 5
}
