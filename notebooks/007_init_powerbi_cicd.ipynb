{
 "cells": [
  {
   "cell_type": "code",
   "execution_count": 1,
   "id": "29cee3ab",
   "metadata": {},
   "outputs": [],
   "source": [
    "# Parameters \n",
    "project = 'PowerBIDemo'\n",
    "project_path = f'../src/{project}'"
   ]
  },
  {
   "cell_type": "code",
   "execution_count": 2,
   "id": "8afc7a04",
   "metadata": {},
   "outputs": [],
   "source": [
    "# Libraries\n",
    "import pyfabricops as pf\n",
    "pf.enable_notebook_logging()\n",
    "pf.set_auth_provider('env') \n",
    "\n",
    "import json"
   ]
  },
  {
   "cell_type": "code",
   "execution_count": 8,
   "id": "96492a82",
   "metadata": {},
   "outputs": [
    {
     "name": "stdout",
     "output_type": "stream",
     "text": [
      "main\n",
      "-PRD\n"
     ]
    }
   ],
   "source": [
    "# Relative paths\n",
    "branch = pf.get_current_branch() \n",
    "print(branch)\n",
    "\n",
    "branches_path = '../branches.json'\n",
    "\n",
    "workspace_suffix = pf.get_workspace_suffix(path=branches_path)  \n",
    "print(workspace_suffix)"
   ]
  },
  {
   "cell_type": "code",
   "execution_count": 4,
   "id": "de76c2b3",
   "metadata": {},
   "outputs": [
    {
     "name": "stderr",
     "output_type": "stream",
     "text": [
      "pyfabricops._workspaces INFO: Workspace PowerBIDemo-PRD created successfully.\n",
      "pyfabricops._workspaces INFO: User \"cbe83b10-3b7c-4479-8168-e5281fabf7ea\", type \"Group\" with role \"Admin\" was added to workspace f4bb753f-4b0a-4f38-b0c1-e13cf18e3b1b successfully.\n",
      "pyfabricops._workspaces INFO: User \"9322eb4a-4132-4bd1-8df1-5cd3d1d2400b\", type \"User\" with role \"Admin\" was added to workspace f4bb753f-4b0a-4f38-b0c1-e13cf18e3b1b successfully.\n",
      "pyfabricops._workspaces INFO: User \"b025341a-965a-4c35-b12e-2af63e5eb58f\", type \"User\" with role \"Contributor\" was added to workspace f4bb753f-4b0a-4f38-b0c1-e13cf18e3b1b successfully.\n",
      "pyfabricops._workspaces WARNING: 409: {\"requestId\":\"5ef917db-1680-4c65-9ce3-9dca538d8c30\",\"errorCode\":\"PrincipalAlreadyHasWorkspaceRolePermissions\",\"moreDetails\":[{\"relatedResource\":{\"resourceId\":\"bde43861-55e1-4144-b572-be115312967f\",\"resourceType\":\"Principal\"}}],\"message\":\"The provided principal already has a role assigned in the workspace\",\"relatedResource\":{\"resourceId\":\"f4bb753f-4b0a-4f38-b0c1-e13cf18e3b1b\",\"resourceType\":\"Workspace\"}}.\n"
     ]
    },
    {
     "data": {
      "text/plain": [
       "{'id': 'f4bb753f-4b0a-4f38-b0c1-e13cf18e3b1b',\n",
       " 'displayName': 'PowerBIDemo-PRD',\n",
       " 'description': 'First Power BI Project with PyFabricOps',\n",
       " 'type': 'Workspace',\n",
       " 'capacityAssignmentProgress': 'Completed'}"
      ]
     },
     "execution_count": 4,
     "metadata": {},
     "output_type": "execute_result"
    }
   ],
   "source": [
    "# Create workspace\n",
    "workspace_name = project + workspace_suffix\n",
    "\n",
    "with open('../workspaces_roles.json', 'r', encoding='utf-8') as f:\n",
    "    roles = json.load(f)\n",
    "\n",
    "pf.create_workspace(workspace_name, description='First Power BI Project with PyFabricOps', roles=roles)"
   ]
  },
  {
   "cell_type": "code",
   "execution_count": 9,
   "id": "4a758a5e",
   "metadata": {},
   "outputs": [
    {
     "name": "stderr",
     "output_type": "stream",
     "text": [
      "pyfabricops._workspaces WARNING: No existing config found at ../src/PowerBIDemo\\config.json, creating a new one.\n",
      "pyfabricops._workspaces INFO: Updated workspace_config for \"PowerBIDemo\" in branch \"main\"\n",
      "pyfabricops._workspaces INFO: Workspace configuration successfully written to ../src/PowerBIDemo\\config.json\n"
     ]
    }
   ],
   "source": [
    "pf.export_workspace_config(workspace_name, project_path, branches_path=branches_path) "
   ]
  },
  {
   "cell_type": "code",
   "execution_count": 10,
   "id": "ac670282",
   "metadata": {},
   "outputs": [
    {
     "data": {
      "text/plain": [
       "CompletedProcess(args=['git', 'checkout', '-b', 'dev'], returncode=0)"
      ]
     },
     "execution_count": 10,
     "metadata": {},
     "output_type": "execute_result"
    }
   ],
   "source": [
    "import subprocess\n",
    "\n",
    "# Git commit and checkout to new branch to start development\n",
    "# Add  the project path to git\n",
    "subprocess.run(['git', 'add', project_path])\n",
    "\n",
    "# Commit the changes\n",
    "subprocess.run(['git', 'commit', '-m', f'Init project {project}']) \n",
    "\n",
    "# Create and checkout to branch 'dev'\n",
    "subprocess.run(['git', 'checkout', '-b', 'dev'])"
   ]
  },
  {
   "cell_type": "code",
   "execution_count": 11,
   "id": "d1d4f567",
   "metadata": {},
   "outputs": [
    {
     "name": "stdout",
     "output_type": "stream",
     "text": [
      "dev\n",
      "-DEV\n"
     ]
    }
   ],
   "source": [
    "# Repeat th Relative paths\n",
    "branch = pf.get_current_branch() \n",
    "print(branch)\n",
    "\n",
    "branches_path = '../branches.json'\n",
    "\n",
    "workspace_suffix = pf.get_workspace_suffix(path=branches_path)  \n",
    "print(workspace_suffix)"
   ]
  },
  {
   "cell_type": "code",
   "execution_count": 12,
   "id": "f4fdaafe",
   "metadata": {},
   "outputs": [
    {
     "name": "stderr",
     "output_type": "stream",
     "text": [
      "pyfabricops._workspaces INFO: Workspace PowerBIDemo-DEV created successfully.\n",
      "pyfabricops._workspaces INFO: User \"cbe83b10-3b7c-4479-8168-e5281fabf7ea\", type \"Group\" with role \"Admin\" was added to workspace 176fdb74-7b5b-455e-b6cf-4779b0a4c6ac successfully.\n",
      "pyfabricops._workspaces INFO: User \"9322eb4a-4132-4bd1-8df1-5cd3d1d2400b\", type \"User\" with role \"Admin\" was added to workspace 176fdb74-7b5b-455e-b6cf-4779b0a4c6ac successfully.\n",
      "pyfabricops._workspaces INFO: User \"b025341a-965a-4c35-b12e-2af63e5eb58f\", type \"User\" with role \"Contributor\" was added to workspace 176fdb74-7b5b-455e-b6cf-4779b0a4c6ac successfully.\n",
      "pyfabricops._workspaces WARNING: 409: {\"requestId\":\"277e989f-86a3-4b32-aa98-a8e1a12a5a62\",\"errorCode\":\"PrincipalAlreadyHasWorkspaceRolePermissions\",\"moreDetails\":[{\"relatedResource\":{\"resourceId\":\"bde43861-55e1-4144-b572-be115312967f\",\"resourceType\":\"Principal\"}}],\"message\":\"The provided principal already has a role assigned in the workspace\",\"relatedResource\":{\"resourceId\":\"176fdb74-7b5b-455e-b6cf-4779b0a4c6ac\",\"resourceType\":\"Workspace\"}}.\n"
     ]
    },
    {
     "data": {
      "text/plain": [
       "{'id': '176fdb74-7b5b-455e-b6cf-4779b0a4c6ac',\n",
       " 'displayName': 'PowerBIDemo-DEV',\n",
       " 'description': 'First Power BI Project with PyFabricOps',\n",
       " 'type': 'Workspace',\n",
       " 'capacityAssignmentProgress': 'Completed'}"
      ]
     },
     "execution_count": 12,
     "metadata": {},
     "output_type": "execute_result"
    }
   ],
   "source": [
    "# Create workspace\n",
    "workspace_name = project + workspace_suffix\n",
    "\n",
    "with open('../workspaces_roles.json', 'r', encoding='utf-8') as f:\n",
    "    roles = json.load(f)\n",
    "\n",
    "pf.create_workspace(workspace_name, description='First Power BI Project with PyFabricOps', roles=roles)"
   ]
  },
  {
   "cell_type": "code",
   "execution_count": 13,
   "id": "2b5ac0a0",
   "metadata": {},
   "outputs": [
    {
     "name": "stderr",
     "output_type": "stream",
     "text": [
      "pyfabricops._workspaces INFO: Found existing config file at ../src/PowerBIDemo\\config.json, merging workspace config...\n",
      "pyfabricops._workspaces INFO: Updated workspace_config for \"PowerBIDemo\" in branch \"dev\"\n",
      "pyfabricops._workspaces INFO: Workspace configuration successfully written to ../src/PowerBIDemo\\config.json\n"
     ]
    }
   ],
   "source": [
    "pf.export_workspace_config(workspace_name, project_path, branches_path=branches_path) "
   ]
  },
  {
   "cell_type": "code",
   "execution_count": 14,
   "id": "e89bc932",
   "metadata": {},
   "outputs": [
    {
     "data": {
      "text/plain": [
       "CompletedProcess(args=['git', 'commit', '-m', 'Dev branch initialized to project PowerBIDemo'], returncode=0)"
      ]
     },
     "execution_count": 14,
     "metadata": {},
     "output_type": "execute_result"
    }
   ],
   "source": [
    "# Add  the project path to git\n",
    "subprocess.run(['git', 'add', project_path])\n",
    "\n",
    "# Commit the changes\n",
    "subprocess.run(['git', 'commit', '-m', f'Dev branch initialized to project {project}']) "
   ]
  }
 ],
 "metadata": {
  "kernelspec": {
   "display_name": "Python 3",
   "language": "python",
   "name": "python3"
  },
  "language_info": {
   "codemirror_mode": {
    "name": "ipython",
    "version": 3
   },
   "file_extension": ".py",
   "mimetype": "text/x-python",
   "name": "python",
   "nbconvert_exporter": "python",
   "pygments_lexer": "ipython3",
   "version": "3.12.10"
  }
 },
 "nbformat": 4,
 "nbformat_minor": 5
}
