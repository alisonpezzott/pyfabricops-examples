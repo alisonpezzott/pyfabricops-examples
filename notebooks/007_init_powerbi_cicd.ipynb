{
 "cells": [
  {
   "cell_type": "markdown",
   "id": "8c8c2d9e",
   "metadata": {},
   "source": [
    "# 007: Notebook to initialize Power BI CI/CD with PyFabricOps \n"
   ]
  },
  {
   "cell_type": "code",
   "execution_count": 1,
   "id": "29cee3ab",
   "metadata": {},
   "outputs": [],
   "source": [
    "# Parameters \n",
    "project = 'PowerBIDemo'\n",
    "project_path = f'../src/{project}'"
   ]
  },
  {
   "cell_type": "code",
   "execution_count": null,
   "id": "8afc7a04",
   "metadata": {},
   "outputs": [],
   "source": [
    "# Libraries\n",
    "import pyfabricops as pf\n",
    "pf.enable_notebook_logging()\n",
    "pf.set_auth_provider('env') \n",
    "\n",
    "import json"
   ]
  },
  {
   "cell_type": "code",
   "execution_count": 3,
   "id": "96492a82",
   "metadata": {},
   "outputs": [
    {
     "name": "stdout",
     "output_type": "stream",
     "text": [
      "Branch: dev, Workspace: PowerBIDemo-DEV\n"
     ]
    }
   ],
   "source": [
    "# Relative paths\n",
    "branch = pf.get_current_branch() \n",
    "branches_path = '../branches.json'\n",
    "workspace_suffix = pf.get_workspace_suffix(path=branches_path)  \n",
    "workspace_name = project + workspace_suffix\n",
    "print(f'Branch: {branch}, Workspace: {workspace_name}') "
   ]
  },
  {
   "cell_type": "code",
   "execution_count": 4,
   "id": "de76c2b3",
   "metadata": {},
   "outputs": [
    {
     "name": "stderr",
     "output_type": "stream",
     "text": [
      "pyfabricops._workspaces INFO: Workspace PowerBIDemo-DEV created successfully.\n",
      "pyfabricops._workspaces INFO: User \"cbe83b10-3b7c-4479-8168-e5281fabf7ea\", type \"Group\" with role \"Admin\" was added to workspace 1d2e9b3f-34d2-4a39-af39-6ebbc6b13d59 successfully.\n",
      "pyfabricops._workspaces INFO: User \"9322eb4a-4132-4bd1-8df1-5cd3d1d2400b\", type \"User\" with role \"Admin\" was added to workspace 1d2e9b3f-34d2-4a39-af39-6ebbc6b13d59 successfully.\n",
      "pyfabricops._workspaces INFO: User \"b025341a-965a-4c35-b12e-2af63e5eb58f\", type \"User\" with role \"Contributor\" was added to workspace 1d2e9b3f-34d2-4a39-af39-6ebbc6b13d59 successfully.\n",
      "pyfabricops._workspaces WARNING: 409: {\"requestId\":\"d54850a6-c715-4589-92c4-8f401e792cd2\",\"errorCode\":\"PrincipalAlreadyHasWorkspaceRolePermissions\",\"moreDetails\":[{\"relatedResource\":{\"resourceId\":\"bde43861-55e1-4144-b572-be115312967f\",\"resourceType\":\"Principal\"}}],\"message\":\"The provided principal already has a role assigned in the workspace\",\"relatedResource\":{\"resourceId\":\"1d2e9b3f-34d2-4a39-af39-6ebbc6b13d59\",\"resourceType\":\"Workspace\"}}.\n"
     ]
    },
    {
     "data": {
      "text/plain": [
       "{'id': '1d2e9b3f-34d2-4a39-af39-6ebbc6b13d59',\n",
       " 'displayName': 'PowerBIDemo-DEV',\n",
       " 'description': 'First Power BI Project with PyFabricOps',\n",
       " 'type': 'Workspace',\n",
       " 'capacityAssignmentProgress': 'Completed'}"
      ]
     },
     "execution_count": 4,
     "metadata": {},
     "output_type": "execute_result"
    }
   ],
   "source": [
    "# Create workspace\n",
    "workspace_name = project + workspace_suffix\n",
    "\n",
    "with open('../workspaces_roles.json', 'r', encoding='utf-8') as f:\n",
    "    roles = json.load(f)\n",
    "\n",
    "pf.create_workspace(\n",
    "    workspace_name, \n",
    "    description='First Power BI Project with PyFabricOps', roles=roles\n",
    ")"
   ]
  },
  {
   "cell_type": "code",
   "execution_count": 5,
   "id": "4a758a5e",
   "metadata": {},
   "outputs": [
    {
     "name": "stderr",
     "output_type": "stream",
     "text": [
      "pyfabricops._workspaces WARNING: No existing config found at ../src/PowerBIDemo\\config.json, creating a new one.\n",
      "pyfabricops._workspaces INFO: Updated workspace_config for \"PowerBIDemo\" in branch \"dev\"\n",
      "pyfabricops._workspaces INFO: Workspace configuration successfully written to ../src/PowerBIDemo\\config.json\n"
     ]
    }
   ],
   "source": [
    "pf.export_workspace_config(\n",
    "    workspace_name, \n",
    "    project_path, \n",
    "    branches_path=branches_path\n",
    ")  "
   ]
  },
  {
   "cell_type": "markdown",
   "id": "61c22127",
   "metadata": {},
   "source": [
    "> [!NOTE] Now build your Power BI project! Deploy to Fabric (with notebook 008) and Pull request to main branch."
   ]
  }
 ],
 "metadata": {
  "kernelspec": {
   "display_name": "Python 3",
   "language": "python",
   "name": "python3"
  },
  "language_info": {
   "codemirror_mode": {
    "name": "ipython",
    "version": 3
   },
   "file_extension": ".py",
   "mimetype": "text/x-python",
   "name": "python",
   "nbconvert_exporter": "python",
   "pygments_lexer": "ipython3",
   "version": "3.12.10"
  }
 },
 "nbformat": 4,
 "nbformat_minor": 5
}
