{
 "cells": [
  {
   "cell_type": "markdown",
   "id": "8c8c2d9e",
   "metadata": {},
   "source": [
    "# 007: Notebook to initialize Power BI CI/CD with PyFabricOps \n"
   ]
  },
  {
   "cell_type": "code",
   "execution_count": null,
   "id": "29cee3ab",
   "metadata": {},
   "outputs": [],
   "source": [
    "# Parameters \n",
    "project = 'PowerBIDemo'\n",
    "project_path = f'../src/{project}'"
   ]
  },
  {
   "cell_type": "code",
   "execution_count": null,
   "id": "8afc7a04",
   "metadata": {},
   "outputs": [],
   "source": [
    "# Libraries\n",
    "import pyfabricops as pf\n",
    "pf.enable_notebook_logging()\n",
    "pf.set_auth_provider('env') \n",
    "\n",
    "import json\n",
    "import subprocess"
   ]
  },
  {
   "cell_type": "code",
   "execution_count": null,
   "id": "067cd268",
   "metadata": {},
   "outputs": [],
   "source": [
    "# Checkout to branch 'dev'\n",
    "subprocess.run(['git', 'checkout', '-b', 'dev'])"
   ]
  },
  {
   "cell_type": "code",
   "execution_count": null,
   "id": "96492a82",
   "metadata": {},
   "outputs": [],
   "source": [
    "# Relative paths\n",
    "branch = pf.get_current_branch() \n",
    "branches_path = '../branches.json'\n",
    "workspace_suffix = pf.get_workspace_suffix(path=branches_path)  \n",
    "workspace_name = project + workspace_suffix\n",
    "print(f'Branch: {branch}, Workspace: {workspace_name}') "
   ]
  },
  {
   "cell_type": "code",
   "execution_count": null,
   "id": "de76c2b3",
   "metadata": {},
   "outputs": [],
   "source": [
    "# Create workspace\n",
    "workspace_name = project + workspace_suffix\n",
    "\n",
    "with open('../workspaces_roles.json', 'r', encoding='utf-8') as f:\n",
    "    roles = json.load(f)\n",
    "\n",
    "pf.create_workspace(\n",
    "    workspace_name, \n",
    "    description='First Power BI Project with PyFabricOps', roles=roles\n",
    ")"
   ]
  },
  {
   "cell_type": "code",
   "execution_count": null,
   "id": "4a758a5e",
   "metadata": {},
   "outputs": [],
   "source": [
    "pf.export_workspace_config(\n",
    "    workspace_name, \n",
    "    project_path, \n",
    "    branches_path=branches_path\n",
    ")  "
   ]
  },
  {
   "cell_type": "markdown",
   "id": "61c22127",
   "metadata": {},
   "source": [
    "> [!NOTE] Now build your Power BI project! Deploy to Fabric (with notebook 008) and Pull request to main branch."
   ]
  }
 ],
 "metadata": {
  "kernelspec": {
   "display_name": "Python 3",
   "language": "python",
   "name": "python3"
  },
  "language_info": {
   "codemirror_mode": {
    "name": "ipython",
    "version": 3
   },
   "file_extension": ".py",
   "mimetype": "text/x-python",
   "name": "python",
   "nbconvert_exporter": "python",
   "pygments_lexer": "ipython3",
   "version": "3.12.10"
  }
 },
 "nbformat": 4,
 "nbformat_minor": 5
}
