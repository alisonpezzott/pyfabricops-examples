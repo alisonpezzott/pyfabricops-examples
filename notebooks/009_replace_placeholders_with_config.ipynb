{
 "cells": [
  {
   "cell_type": "code",
   "execution_count": null,
   "id": "d38d1942",
   "metadata": {},
   "outputs": [],
   "source": [
    "# Libraries\n",
    "import json\n",
    "import os\n",
    "import pyfabricops as pf\n",
    "\n",
    "# Enable logging and set authentication provider\n",
    "pf.enable_notebook_logging() # Enable logging for notebook\n",
    "pf.set_auth_provider('env') \n",
    "\n",
    "# Get repo root - works in Jupyter notebooks\n",
    "repo_root = os.path.abspath('..')  # Goes up one level from notebooks folder\n",
    "project = 'PowerBIDemo'\n",
    "project_path = os.path.join(repo_root, 'src', project)\n",
    "print(f\"Project path: {project_path}\")\n",
    "\n",
    "# Define branches configuration path\n",
    "branches_path = os.path.join(repo_root, 'branches.json')\n",
    "print(f\"Branches configuration path: {branches_path}\")\n",
    "\n",
    "# Load branches configuration\n",
    "branch = pf.get_current_branch()\n",
    "workspace_suffix = pf.get_workspace_suffix(path=branches_path)\n",
    "\n",
    "# Define workspace name based on project and branch\n",
    "workspace_name = project + workspace_suffix\n",
    "print(f'Branch: {branch}, Workspace: {workspace_name}') "
   ]
  },
  {
   "cell_type": "code",
   "execution_count": null,
   "id": "b9ad977f",
   "metadata": {},
   "outputs": [],
   "source": [
    "# Retrienving the workspace_id from config.json in the project_path for better performance\n",
    "config_path = f'{project_path}/config.json'\n",
    "with open(config_path, 'r') as f:\n",
    "  config_content = json.load(f)\n",
    "  config = config_content[branch]  \n",
    "  workspace_id = config[project]['workspace_config']['workspace_id'] \n",
    "print(f'Workspace ID: {workspace_id}')"
   ]
  },
  {
   "cell_type": "code",
   "execution_count": null,
   "id": "ae5f01fd",
   "metadata": {},
   "outputs": [],
   "source": [
    "# Read the config.json retriving the parameters for the semantic model\n",
    "with open(config_path, 'r') as f:\n",
    "\tconfig_content = json.load(f)\n",
    "config = config_content[branch]\n",
    "\n",
    "semantic_models_config = config[project]['semantic_models']"
   ]
  },
  {
   "cell_type": "code",
   "execution_count": null,
   "id": "054a7a66",
   "metadata": {},
   "outputs": [],
   "source": [
    "# Replacing the parameters in the semantic models with the values from config.json\n",
    "import glob \n",
    "import re\n",
    "\n",
    "for semantic_model_path in glob.glob(f'{project_path}/**/*.SemanticModel', recursive=True):\n",
    "\tprint(f'Processing semantic model: {semantic_model_path}')\n",
    "\tsemantic_model_name = semantic_model_path.replace('\\\\', '/').split('/')[-1].split('.SemanticModel')[0] \n",
    "\tprint(f'Deploying semantic model name: {semantic_model_name}')  \n",
    "\n",
    "\t# Retrieving the semantic model config\n",
    "\tsemantic_model_config = semantic_models_config[semantic_model_name]\n",
    "\tsemantic_model_parameters = semantic_model_config['parameters']\n",
    "\n",
    "\t# Read the expressions file\n",
    "\texpressions_path = f'{semantic_model_path}//definition/expressions.tmdl'\n",
    "\twith open(expressions_path, 'r') as f:\n",
    "\t\texpressions = f.read()\n",
    "\n",
    "\t# Build variables dictionary dynamically from config.json\n",
    "\tvariables_to_replace = {}\n",
    "\tfor parameter_name, parameter_obj in semantic_model_parameters.items():\n",
    "\t\tvariables_to_replace[parameter_name] = parameter_obj['Value']\n",
    "\t\tprint(f\"Found parameter: {parameter_name} = {parameter_obj['Value']}\")\n",
    "\t\n",
    "\t# Start with original expressions\n",
    "\texpressions_updated = expressions\n",
    "\n",
    "\t# Replace each variable using regex\n",
    "\tfor variable_name, new_value in variables_to_replace.items():\n",
    "\t\t# Pattern to match: VariableName = \"any_value\"\n",
    "\t\tpattern = rf'{variable_name}\\s*=\\s*\"[^\"]*\"'\n",
    "\t\treplacement = f'{variable_name} = \"{new_value}\"'\n",
    "\t\texpressions_updated = re.sub(pattern, replacement, expressions_updated)\n",
    "\t\tprint(f\"Replaced {variable_name} with: {new_value}\")\n",
    "\n",
    "\t# Write the updated expressions back to the file\n",
    "\twith open(expressions_path, 'w', encoding='utf-8') as f:\n",
    "\t\tf.write(expressions_updated)"
   ]
  }
 ],
 "metadata": {
  "kernelspec": {
   "display_name": "Python 3",
   "language": "python",
   "name": "python3"
  },
  "language_info": {
   "codemirror_mode": {
    "name": "ipython",
    "version": 3
   },
   "file_extension": ".py",
   "mimetype": "text/x-python",
   "name": "python",
   "nbconvert_exporter": "python",
   "pygments_lexer": "ipython3",
   "version": "3.12.10"
  }
 },
 "nbformat": 4,
 "nbformat_minor": 5
}
