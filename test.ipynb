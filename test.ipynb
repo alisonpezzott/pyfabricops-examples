{
 "cells": [
  {
   "cell_type": "code",
   "execution_count": 4,
   "id": "fc32b4a0",
   "metadata": {},
   "outputs": [
    {
     "name": "stdout",
     "output_type": "stream",
     "text": [
      "a6f837e7-7cd8-4ea7-bc5b-2898f3c85704\n"
     ]
    }
   ],
   "source": [
    "# Mount the lakehouse oficial structure\n",
    "import pyfabricops as pf\n",
    "pf.set_auth_provider(\"env\") \n",
    "\n",
    "# set the path to the lakehouse\n",
    "path = './workspace' \n",
    "\n",
    "# Set the workspace and lakehouse\n",
    "workspace_name = '_pyfabricops-PRD'\n",
    "workspace_id = pf.resolve_workspace(workspace_name) \n",
    "print(workspace_id) "
   ]
  },
  {
   "cell_type": "code",
   "execution_count": 16,
   "id": "632d5009",
   "metadata": {},
   "outputs": [],
   "source": [
    "import pandas as pd\n",
    "\n",
    "def _flatten_json(data, parent_key='', sep='_'):\n",
    "    \"\"\"\n",
    "    Helper function to flatten nested JSON.\n",
    "\n",
    "    Args:\n",
    "        data (dict): JSON to flatten.\n",
    "        parent_key (str): Parent key (used for recursion).\n",
    "        sep (str): Separator for flattened keys.\n",
    "\n",
    "    Returns:\n",
    "        list[dict]: List of flattened dictionaries.\n",
    "    \"\"\"\n",
    "    items = []\n",
    "    for k, v in data.items():\n",
    "        new_key = f'{parent_key}{sep}{k}' if parent_key else k\n",
    "        if isinstance(v, dict):\n",
    "            items.extend(_flatten_json(v, new_key, sep=sep).items())\n",
    "        else:\n",
    "            items.append((new_key, v))\n",
    "    return dict(items)\n",
    "\n",
    "\n",
    "def _json_df(data):\n",
    "    \"\"\"\n",
    "    Converts various types of JSON to a DataFrame.\n",
    "\n",
    "    Args:\n",
    "        data (dict | list): The JSON to be converted. Can be a simple dictionary,\n",
    "        a nested dictionary, or a list of dictionaries.\n",
    "\n",
    "    Returns:\n",
    "        pd.DataFrame: The resulting DataFrame.\n",
    "    \"\"\"\n",
    "    if not data:\n",
    "        return None\n",
    "\n",
    "    if isinstance(data, dict):\n",
    "\n",
    "        # If it\"s a simple dictionary\n",
    "        if all(not isinstance(v, (dict, list)) for v in data.values()):\n",
    "            return pd.DataFrame([data])\n",
    "\n",
    "        # If it\"s a dictionary with nested levels\n",
    "        else:\n",
    "            flattened_data = _flatten_json(data)\n",
    "            return pd.DataFrame([flattened_data])\n",
    "\n",
    "    elif isinstance(data, list):\n",
    "\n",
    "        # If it\"s a list of dictionaries\n",
    "        if all(isinstance(item, dict) for item in data):\n",
    "            flattened_list = [_flatten_json(item) for item in data]\n",
    "            return pd.DataFrame(flattened_list)\n",
    "        else:\n",
    "            raise ValueError(\n",
    "                'The list contains items that are not dictionaries.'\n",
    "            )\n",
    "\n",
    "    else:\n",
    "        raise TypeError(\n",
    "            'Input type must be a dictionary or a list of dictionaries.'\n",
    "        )"
   ]
  },
  {
   "cell_type": "code",
   "execution_count": null,
   "id": "4607d578",
   "metadata": {},
   "outputs": [],
   "source": [
    "# Listing all lakehouses in the workspace\n",
    "lakehouses = pf.list_lakehouses(workspace=workspace_id) \n",
    "lakehouses_df = _json_df(lakehouses) \n",
    "display(lakehouses_df)"
   ]
  },
  {
   "cell_type": "code",
   "execution_count": null,
   "id": "24a6bc74",
   "metadata": {},
   "outputs": [
    {
     "name": "stdout",
     "output_type": "stream",
     "text": [
      "399ff0f0-fa34-4e5a-a481-c4424dfc3c9c\n"
     ]
    }
   ],
   "source": [
    "# Find first lakehouse with name LakeUnique\n",
    "lakehouse_name = 'LakeUnique'\n",
    "for lakehouse in lakehouses:\n",
    "  if lakehouse['displayName'] == lakehouse_name:\n",
    "    lakehouse_id = lakehouse['id']\n",
    "    print(lakehouse_id)\n",
    "    break"
   ]
  },
  {
   "cell_type": "code",
   "execution_count": 24,
   "id": "ae97ccb9",
   "metadata": {},
   "outputs": [],
   "source": [
    "# Export the basic lakehouse to path\n",
    "pf.export_workspace_config(workspace_id, path)\n",
    "pf.export_folders(workspace_id, path) \n",
    "pf.export_lakehouse(workspace_id, lakehouse_id, path)  "
   ]
  },
  {
   "cell_type": "code",
   "execution_count": 54,
   "id": "e783d81d",
   "metadata": {},
   "outputs": [
    {
     "name": "stdout",
     "output_type": "stream",
     "text": [
      "[{'name': 'CurrentDate', 'path': '/Tables', 'target': {'type': 'OneLake', 'oneLake': {'itemId': '56a222c9-2e43-4318-8926-9d20a02c489f', 'path': 'Tables/dbo/CurrentDate', 'workspaceId': 'a6f837e7-7cd8-4ea7-bc5b-2898f3c85704'}}}]\n"
     ]
    }
   ],
   "source": [
    "# List the shortcuts of the lakehouse\n",
    "shortcuts_list = pf.list_shortcuts(workspace_id, lakehouse_id) \n",
    "print(shortcuts_list)  "
   ]
  },
  {
   "cell_type": "code",
   "execution_count": 55,
   "id": "cf3d08d9",
   "metadata": {},
   "outputs": [
    {
     "name": "stdout",
     "output_type": "stream",
     "text": [
      "{'name': 'CurrentDate', 'path': '/Tables', 'target': {'type': 'OneLake', 'oneLake': {'itemId': '56a222c9-2e43-4318-8926-9d20a02c489f', 'path': 'Tables/dbo/CurrentDate', 'workspaceId': 'a6f837e7-7cd8-4ea7-bc5b-2898f3c85704'}}}\n"
     ]
    }
   ],
   "source": [
    "shortcut_dict = shortcuts_list[0]\n",
    "print(shortcut_dict) "
   ]
  },
  {
   "cell_type": "code",
   "execution_count": 56,
   "id": "ef7cde0c",
   "metadata": {},
   "outputs": [
    {
     "name": "stdout",
     "output_type": "stream",
     "text": [
      "{'type': 'OneLake', 'oneLake': {'itemId': '56a222c9-2e43-4318-8926-9d20a02c489f', 'path': 'Tables/dbo/CurrentDate', 'workspaceId': 'a6f837e7-7cd8-4ea7-bc5b-2898f3c85704'}}\n"
     ]
    }
   ],
   "source": [
    "shortcut_target = shortcut_dict['target']\n",
    "print(shortcut_target) "
   ]
  },
  {
   "cell_type": "code",
   "execution_count": 57,
   "id": "d3f6c7f8",
   "metadata": {},
   "outputs": [
    {
     "name": "stdout",
     "output_type": "stream",
     "text": [
      "OneLake\n"
     ]
    }
   ],
   "source": [
    "shortcut_target_type = shortcut_target['type']  \n",
    "print(shortcut_target_type) "
   ]
  },
  {
   "cell_type": "code",
   "execution_count": 58,
   "id": "9f3c916d",
   "metadata": {},
   "outputs": [
    {
     "name": "stdout",
     "output_type": "stream",
     "text": [
      "a6f837e7-7cd8-4ea7-bc5b-2898f3c85704\n"
     ]
    }
   ],
   "source": [
    "shortcut_target_workspace_id = shortcut_target['oneLake']['workspaceId']\n",
    "print(shortcut_target_workspace_id) "
   ]
  },
  {
   "cell_type": "code",
   "execution_count": 59,
   "id": "040ce1cd",
   "metadata": {},
   "outputs": [
    {
     "name": "stdout",
     "output_type": "stream",
     "text": [
      "56a222c9-2e43-4318-8926-9d20a02c489f\n"
     ]
    }
   ],
   "source": [
    "shortcut_target_item_id = shortcut_target['oneLake']['itemId'] \n",
    "print(shortcut_target_item_id) "
   ]
  },
  {
   "cell_type": "code",
   "execution_count": 60,
   "id": "0cd6b634",
   "metadata": {},
   "outputs": [
    {
     "name": "stdout",
     "output_type": "stream",
     "text": [
      "Warehouse\n"
     ]
    }
   ],
   "source": [
    "workspace_items = pf.list_items(shortcut_target_workspace_id) \n",
    "for item in workspace_items:\n",
    "  if item['id'] == shortcut_target_item_id:\n",
    "    shortcut_target_item_type = item['type']\n",
    "    print(shortcut_target_item_type)\n",
    "    break"
   ]
  },
  {
   "cell_type": "code",
   "execution_count": 61,
   "id": "aab91153",
   "metadata": {},
   "outputs": [],
   "source": [
    "# Check if the workspace_id is equal shortcut_target_workspace_id then uuid zero\n",
    "if shortcut_target_workspace_id == workspace_id:\n",
    "    shortcut_target_workspace_id = \"00000000-0000-0000-0000-000000000000\""
   ]
  },
  {
   "cell_type": "code",
   "execution_count": 63,
   "id": "9daf2430",
   "metadata": {},
   "outputs": [
    {
     "name": "stdout",
     "output_type": "stream",
     "text": [
      "{'name': 'CurrentDate', 'path': '/Tables', 'target': {'type': 'OneLake', 'oneLake': {'itemId': '56a222c9-2e43-4318-8926-9d20a02c489f', 'path': 'Tables/dbo/CurrentDate', 'workspaceId': '00000000-0000-0000-0000-000000000000', 'artifactType': 'Warehouse'}}}\n"
     ]
    }
   ],
   "source": [
    "# Create item type if not exists\n",
    "if 'itemType' not in shortcut_dict['target']['oneLake']:\n",
    "    shortcut_dict['target']['oneLake']['artifactType'] = \"\"\n",
    "if 'workspaceId' not in shortcut_dict['target']['oneLake']:\n",
    "    shortcut_dict['target']['oneLake']['workspaceId'] = \"\"\n",
    "\n",
    "# Update if exists\n",
    "shortcut_dict['target']['oneLake']['artifactType'] = shortcut_target_item_type\n",
    "shortcut_dict['target']['oneLake']['workspaceId'] = shortcut_target_workspace_id\n",
    "\n",
    "print(shortcut_dict)  "
   ]
  },
  {
   "cell_type": "code",
   "execution_count": 64,
   "id": "524c023d",
   "metadata": {},
   "outputs": [
    {
     "name": "stdout",
     "output_type": "stream",
     "text": [
      "[{'name': 'CurrentDate', 'path': '/Tables', 'target': {'type': 'OneLake', 'oneLake': {'itemId': '56a222c9-2e43-4318-8926-9d20a02c489f', 'path': 'Tables/dbo/CurrentDate', 'workspaceId': '00000000-0000-0000-0000-000000000000', 'artifactType': 'Warehouse'}}}]\n"
     ]
    }
   ],
   "source": [
    "shortcuts_list_new = []\n",
    "shortcuts_list_new.append(shortcut_dict) \n",
    "print(shortcuts_list_new) "
   ]
  },
  {
   "cell_type": "code",
   "execution_count": 65,
   "id": "d29ce31d",
   "metadata": {},
   "outputs": [],
   "source": [
    "# Write the shortcuts to path\n",
    "with open(f'./workspace/workspace/Storage/LakeUnique.Lakehouse/shortcuts.metadata.json', 'w') as f:\n",
    "    import json\n",
    "    json.dump(shortcuts_list_new, f, indent=2) "
   ]
  },
  {
   "cell_type": "code",
   "execution_count": 66,
   "id": "b507f365",
   "metadata": {},
   "outputs": [],
   "source": [
    "# Create dummy lakehouse.metadata.json  \n",
    "with open(f'./workspace/workspace/Storage/LakeUnique.Lakehouse/lakehouse.metadata.json', 'w') as f:\n",
    "    import json\n",
    "    json.dump({}, f, indent=2) "
   ]
  },
  {
   "cell_type": "code",
   "execution_count": null,
   "id": "8733e3fb",
   "metadata": {},
   "outputs": [
    {
     "name": "stdout",
     "output_type": "stream",
     "text": [
      "{'metadata': {'type': 'Lakehouse', 'displayName': 'LakeUnique', 'description': 'The unique lakehouse of the project.'}}\n"
     ]
    }
   ],
   "source": [
    "# Creating aditional fields in .platform  \n",
    "with open(f'./workspace/workspace/Storage/LakeUnique.Lakehouse/.platform', 'w') as f:\n",
    "  platform_content = json.load(f)\n",
    "print(platform_content)"
   ]
  },
  {
   "cell_type": "code",
   "execution_count": 70,
   "id": "21f8869a",
   "metadata": {},
   "outputs": [],
   "source": [
    "import uuid\n",
    "\n",
    "if 'config' not in platform_content:\n",
    "  platform_content['config'] = {}\n",
    "  \n",
    "  # Generate a unique ID \n",
    "  logical_id = str(uuid.uuid4())\n",
    "\n",
    "  platform_config = {\"version\": \"2.0\", \"logicalId\": logical_id}\n",
    "  platform_content['config'] = platform_config\n",
    "\n",
    "\n",
    "if '$schema' not in platform_content:\n",
    "    platform_content['$schema'] = \"\"\n",
    "    platform_content['$schema'] = \"https://developer.microsoft.com/json-schemas/fabric/gitIntegration/platformProperties/2.0.0/schema.json\"\n",
    "\n"
   ]
  },
  {
   "cell_type": "code",
   "execution_count": 71,
   "id": "a9b06513",
   "metadata": {},
   "outputs": [],
   "source": [
    "# Write reviewed platform file \n",
    "with open(f'./workspace/workspace/Storage/LakeUnique.Lakehouse/.platform', 'w') as f:\n",
    "    json.dump(platform_content, f, indent=2) "
   ]
  }
 ],
 "metadata": {
  "kernelspec": {
   "display_name": "Python 3",
   "language": "python",
   "name": "python3"
  },
  "language_info": {
   "codemirror_mode": {
    "name": "ipython",
    "version": 3
   },
   "file_extension": ".py",
   "mimetype": "text/x-python",
   "name": "python",
   "nbconvert_exporter": "python",
   "pygments_lexer": "ipython3",
   "version": "3.12.10"
  }
 },
 "nbformat": 4,
 "nbformat_minor": 5
}
