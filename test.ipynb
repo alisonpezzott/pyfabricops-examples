{
 "cells": [
  {
   "cell_type": "code",
   "execution_count": 2,
   "id": "92b22334",
   "metadata": {},
   "outputs": [],
   "source": [
    "import pyfabricops as pf\n",
    "pf.set_auth_provider(\"env\") "
   ]
  },
  {
   "cell_type": "code",
   "execution_count": 2,
   "id": "c4764ed7",
   "metadata": {},
   "outputs": [],
   "source": [
    "project = 'TestSynced' \n",
    "project_path = f'./{project}'\n",
    "workspace = 'Test' \n",
    "pf.export_workspace_config(workspace, project_path) "
   ]
  },
  {
   "cell_type": "code",
   "execution_count": 4,
   "id": "5b25af52",
   "metadata": {},
   "outputs": [],
   "source": [
    "pf.export_all_lakehouses(workspace, project_path)"
   ]
  },
  {
   "cell_type": "code",
   "execution_count": 1,
   "id": "3d81b330",
   "metadata": {},
   "outputs": [
    {
     "name": "stdout",
     "output_type": "stream",
     "text": [
      "d13a16de-a510-433f-a41b-c7deda2a9b9c\n"
     ]
    }
   ],
   "source": [
    "import uuid\n",
    "# Generate a unique ID \n",
    "id = str(uuid.uuid4())\n",
    "print(id)"
   ]
  },
  {
   "cell_type": "code",
   "execution_count": 7,
   "id": "59922ce6",
   "metadata": {},
   "outputs": [
    {
     "data": {
      "text/plain": [
       "[{'id': '399ff0f0-fa34-4e5a-a481-c4424dfc3c9c',\n",
       "  'type': 'Lakehouse',\n",
       "  'displayName': 'LakeUnique',\n",
       "  'description': 'The unique lakehouse of the project.',\n",
       "  'workspaceId': 'a6f837e7-7cd8-4ea7-bc5b-2898f3c85704',\n",
       "  'properties': {'oneLakeTablesPath': 'https://onelake.dfs.fabric.microsoft.com/a6f837e7-7cd8-4ea7-bc5b-2898f3c85704/399ff0f0-fa34-4e5a-a481-c4424dfc3c9c/Tables',\n",
       "   'oneLakeFilesPath': 'https://onelake.dfs.fabric.microsoft.com/a6f837e7-7cd8-4ea7-bc5b-2898f3c85704/399ff0f0-fa34-4e5a-a481-c4424dfc3c9c/Files',\n",
       "   'sqlEndpointProperties': {'connectionString': 'gvkmt76pz4cuhm2fs63qgxl5cy-4437rjwypstu5pc3fcmphscxaq.datawarehouse.fabric.microsoft.com',\n",
       "    'id': '21e6be66-089b-44d9-8a4a-1b7ce071c527',\n",
       "    'provisioningStatus': 'Success'}},\n",
       "  'folderId': 'f4812b7e-8ed9-4de8-a0b9-922cf47e86b5'}]"
      ]
     },
     "execution_count": 7,
     "metadata": {},
     "output_type": "execute_result"
    }
   ],
   "source": [
    "pf.list_lakehouses('_pyfabricops-PRD') "
   ]
  },
  {
   "cell_type": "code",
   "execution_count": 10,
   "id": "f50e8996",
   "metadata": {},
   "outputs": [
    {
     "data": {
      "text/plain": [
       "'399ff0f0-fa34-4e5a-a481-c4424dfc3c9c'"
      ]
     },
     "execution_count": 10,
     "metadata": {},
     "output_type": "execute_result"
    }
   ],
   "source": [
    "pf.resolve_lakehouse('_pyfabricops-PRD', '399ff0f0-fa34-4e5a-a481-c4424dfc3c9c')"
   ]
  },
  {
   "cell_type": "code",
   "execution_count": 3,
   "id": "4922d06f",
   "metadata": {},
   "outputs": [],
   "source": [
    "output = pf.list_shortcuts(workspace='_pyfabricops-PRD',lakehouse='399ff0f0-fa34-4e5a-a481-c4424dfc3c9c')"
   ]
  },
  {
   "cell_type": "code",
   "execution_count": 5,
   "id": "f8c7fa71",
   "metadata": {},
   "outputs": [
    {
     "name": "stdout",
     "output_type": "stream",
     "text": [
      "{'shortcuts': [{'name': 'CurrentDate', 'path': '/Tables', 'target': {'type': 'OneLake', 'oneLake': {'itemId': '56a222c9-2e43-4318-8926-9d20a02c489f', 'path': 'Tables/dbo/CurrentDate', 'workspaceId': 'a6f837e7-7cd8-4ea7-bc5b-2898f3c85704'}}}]}\n"
     ]
    }
   ],
   "source": [
    "shortcuts = {}\n",
    "shortcuts['shortcuts'] = output\n",
    "print(shortcuts)\n",
    "\n",
    "with open(f'./shortcuts.json', 'w') as f:\n",
    "    import json\n",
    "    json.dump(shortcuts, f, indent=2) "
   ]
  },
  {
   "cell_type": "code",
   "execution_count": 6,
   "id": "5ee9a9eb",
   "metadata": {},
   "outputs": [
    {
     "data": {
      "application/vnd.microsoft.datawrangler.viewer.v0+json": {
       "columns": [
        {
         "name": "index",
         "rawType": "int64",
         "type": "integer"
        },
        {
         "name": "id",
         "rawType": "object",
         "type": "string"
        },
        {
         "name": "type",
         "rawType": "object",
         "type": "string"
        },
        {
         "name": "displayName",
         "rawType": "object",
         "type": "string"
        },
        {
         "name": "description",
         "rawType": "object",
         "type": "string"
        },
        {
         "name": "workspaceId",
         "rawType": "object",
         "type": "string"
        },
        {
         "name": "folderId",
         "rawType": "object",
         "type": "string"
        }
       ],
       "ref": "3a383501-566e-4809-aaa7-da99589c2a93",
       "rows": [
        [
         "0",
         "cd9bfcb2-e363-41e0-83ce-854b1444e8fd",
         "Report",
         "CustomersAnalysis",
         "",
         "a6f837e7-7cd8-4ea7-bc5b-2898f3c85704",
         "ae72e957-6c4b-44f7-9338-6d30d68fd1dd"
        ],
        [
         "1",
         "f4beb8d1-a58e-4709-91ca-d07c628c5bee",
         "Report",
         "ProductsAnalysis",
         "",
         "a6f837e7-7cd8-4ea7-bc5b-2898f3c85704",
         "ae72e957-6c4b-44f7-9338-6d30d68fd1dd"
        ],
        [
         "2",
         "7bf48685-903e-47cc-8ff5-f9c650f20811",
         "Report",
         "Sales",
         "",
         "a6f837e7-7cd8-4ea7-bc5b-2898f3c85704",
         "38717aa4-14f0-4004-a239-13bcde71fdf3"
        ],
        [
         "3",
         "af105b36-1581-4a09-b8f8-f4e9fab48253",
         "SemanticModel",
         "WareSecondary",
         "",
         "a6f837e7-7cd8-4ea7-bc5b-2898f3c85704",
         "f4812b7e-8ed9-4de8-a0b9-922cf47e86b5"
        ],
        [
         "4",
         "7e8dcabe-6f47-47da-8043-54b8959e182d",
         "SemanticModel",
         "GoldenDataset",
         "",
         "a6f837e7-7cd8-4ea7-bc5b-2898f3c85704",
         "ae72e957-6c4b-44f7-9338-6d30d68fd1dd"
        ],
        [
         "5",
         "429c92d9-0766-44e6-98a0-9385421ecd46",
         "SemanticModel",
         "LakeUnique",
         "",
         "a6f837e7-7cd8-4ea7-bc5b-2898f3c85704",
         "f4812b7e-8ed9-4de8-a0b9-922cf47e86b5"
        ],
        [
         "6",
         "7891bbf0-7327-44f4-9914-636721e4abd0",
         "SemanticModel",
         "Sales",
         "",
         "a6f837e7-7cd8-4ea7-bc5b-2898f3c85704",
         "38717aa4-14f0-4004-a239-13bcde71fdf3"
        ],
        [
         "7",
         "56a222c9-2e43-4318-8926-9d20a02c489f",
         "Warehouse",
         "WareSecondary",
         "The SQL storage for some specific analysis.",
         "a6f837e7-7cd8-4ea7-bc5b-2898f3c85704",
         "f4812b7e-8ed9-4de8-a0b9-922cf47e86b5"
        ],
        [
         "8",
         "21e6be66-089b-44d9-8a4a-1b7ce071c527",
         "SQLEndpoint",
         "LakeUnique",
         "",
         "a6f837e7-7cd8-4ea7-bc5b-2898f3c85704",
         "f4812b7e-8ed9-4de8-a0b9-922cf47e86b5"
        ],
        [
         "9",
         "ad6111d0-5e05-4962-9772-9c5e2f177e16",
         "Dataflow",
         "UpdateCalendar",
         "Update the calendar table in the Lakehouse.",
         "a6f837e7-7cd8-4ea7-bc5b-2898f3c85704",
         "a103c3ae-c6ff-4892-b5e3-2fd0ebc574dc"
        ],
        [
         "10",
         "899be837-ec9e-4769-8823-4206ade7c692",
         "Notebook",
         "TransformAndLoad",
         "Transform and load from files to tables.",
         "a6f837e7-7cd8-4ea7-bc5b-2898f3c85704",
         "a103c3ae-c6ff-4892-b5e3-2fd0ebc574dc"
        ],
        [
         "11",
         "399ff0f0-fa34-4e5a-a481-c4424dfc3c9c",
         "Lakehouse",
         "LakeUnique",
         "The unique lakehouse of the project.",
         "a6f837e7-7cd8-4ea7-bc5b-2898f3c85704",
         "f4812b7e-8ed9-4de8-a0b9-922cf47e86b5"
        ],
        [
         "12",
         "bdec2331-bd1a-4ab9-aeeb-98ba54c2346f",
         "DataPipeline",
         "CopyData",
         "Copy data from SQL Server to Lakehouse files.",
         "a6f837e7-7cd8-4ea7-bc5b-2898f3c85704",
         "a103c3ae-c6ff-4892-b5e3-2fd0ebc574dc"
        ]
       ],
       "shape": {
        "columns": 6,
        "rows": 13
       }
      },
      "text/html": [
       "<div>\n",
       "<style scoped>\n",
       "    .dataframe tbody tr th:only-of-type {\n",
       "        vertical-align: middle;\n",
       "    }\n",
       "\n",
       "    .dataframe tbody tr th {\n",
       "        vertical-align: top;\n",
       "    }\n",
       "\n",
       "    .dataframe thead th {\n",
       "        text-align: right;\n",
       "    }\n",
       "</style>\n",
       "<table border=\"1\" class=\"dataframe\">\n",
       "  <thead>\n",
       "    <tr style=\"text-align: right;\">\n",
       "      <th></th>\n",
       "      <th>id</th>\n",
       "      <th>type</th>\n",
       "      <th>displayName</th>\n",
       "      <th>description</th>\n",
       "      <th>workspaceId</th>\n",
       "      <th>folderId</th>\n",
       "    </tr>\n",
       "  </thead>\n",
       "  <tbody>\n",
       "    <tr>\n",
       "      <th>0</th>\n",
       "      <td>cd9bfcb2-e363-41e0-83ce-854b1444e8fd</td>\n",
       "      <td>Report</td>\n",
       "      <td>CustomersAnalysis</td>\n",
       "      <td></td>\n",
       "      <td>a6f837e7-7cd8-4ea7-bc5b-2898f3c85704</td>\n",
       "      <td>ae72e957-6c4b-44f7-9338-6d30d68fd1dd</td>\n",
       "    </tr>\n",
       "    <tr>\n",
       "      <th>1</th>\n",
       "      <td>f4beb8d1-a58e-4709-91ca-d07c628c5bee</td>\n",
       "      <td>Report</td>\n",
       "      <td>ProductsAnalysis</td>\n",
       "      <td></td>\n",
       "      <td>a6f837e7-7cd8-4ea7-bc5b-2898f3c85704</td>\n",
       "      <td>ae72e957-6c4b-44f7-9338-6d30d68fd1dd</td>\n",
       "    </tr>\n",
       "    <tr>\n",
       "      <th>2</th>\n",
       "      <td>7bf48685-903e-47cc-8ff5-f9c650f20811</td>\n",
       "      <td>Report</td>\n",
       "      <td>Sales</td>\n",
       "      <td></td>\n",
       "      <td>a6f837e7-7cd8-4ea7-bc5b-2898f3c85704</td>\n",
       "      <td>38717aa4-14f0-4004-a239-13bcde71fdf3</td>\n",
       "    </tr>\n",
       "    <tr>\n",
       "      <th>3</th>\n",
       "      <td>af105b36-1581-4a09-b8f8-f4e9fab48253</td>\n",
       "      <td>SemanticModel</td>\n",
       "      <td>WareSecondary</td>\n",
       "      <td></td>\n",
       "      <td>a6f837e7-7cd8-4ea7-bc5b-2898f3c85704</td>\n",
       "      <td>f4812b7e-8ed9-4de8-a0b9-922cf47e86b5</td>\n",
       "    </tr>\n",
       "    <tr>\n",
       "      <th>4</th>\n",
       "      <td>7e8dcabe-6f47-47da-8043-54b8959e182d</td>\n",
       "      <td>SemanticModel</td>\n",
       "      <td>GoldenDataset</td>\n",
       "      <td></td>\n",
       "      <td>a6f837e7-7cd8-4ea7-bc5b-2898f3c85704</td>\n",
       "      <td>ae72e957-6c4b-44f7-9338-6d30d68fd1dd</td>\n",
       "    </tr>\n",
       "    <tr>\n",
       "      <th>5</th>\n",
       "      <td>429c92d9-0766-44e6-98a0-9385421ecd46</td>\n",
       "      <td>SemanticModel</td>\n",
       "      <td>LakeUnique</td>\n",
       "      <td></td>\n",
       "      <td>a6f837e7-7cd8-4ea7-bc5b-2898f3c85704</td>\n",
       "      <td>f4812b7e-8ed9-4de8-a0b9-922cf47e86b5</td>\n",
       "    </tr>\n",
       "    <tr>\n",
       "      <th>6</th>\n",
       "      <td>7891bbf0-7327-44f4-9914-636721e4abd0</td>\n",
       "      <td>SemanticModel</td>\n",
       "      <td>Sales</td>\n",
       "      <td></td>\n",
       "      <td>a6f837e7-7cd8-4ea7-bc5b-2898f3c85704</td>\n",
       "      <td>38717aa4-14f0-4004-a239-13bcde71fdf3</td>\n",
       "    </tr>\n",
       "    <tr>\n",
       "      <th>7</th>\n",
       "      <td>56a222c9-2e43-4318-8926-9d20a02c489f</td>\n",
       "      <td>Warehouse</td>\n",
       "      <td>WareSecondary</td>\n",
       "      <td>The SQL storage for some specific analysis.</td>\n",
       "      <td>a6f837e7-7cd8-4ea7-bc5b-2898f3c85704</td>\n",
       "      <td>f4812b7e-8ed9-4de8-a0b9-922cf47e86b5</td>\n",
       "    </tr>\n",
       "    <tr>\n",
       "      <th>8</th>\n",
       "      <td>21e6be66-089b-44d9-8a4a-1b7ce071c527</td>\n",
       "      <td>SQLEndpoint</td>\n",
       "      <td>LakeUnique</td>\n",
       "      <td></td>\n",
       "      <td>a6f837e7-7cd8-4ea7-bc5b-2898f3c85704</td>\n",
       "      <td>f4812b7e-8ed9-4de8-a0b9-922cf47e86b5</td>\n",
       "    </tr>\n",
       "    <tr>\n",
       "      <th>9</th>\n",
       "      <td>ad6111d0-5e05-4962-9772-9c5e2f177e16</td>\n",
       "      <td>Dataflow</td>\n",
       "      <td>UpdateCalendar</td>\n",
       "      <td>Update the calendar table in the Lakehouse.</td>\n",
       "      <td>a6f837e7-7cd8-4ea7-bc5b-2898f3c85704</td>\n",
       "      <td>a103c3ae-c6ff-4892-b5e3-2fd0ebc574dc</td>\n",
       "    </tr>\n",
       "    <tr>\n",
       "      <th>10</th>\n",
       "      <td>899be837-ec9e-4769-8823-4206ade7c692</td>\n",
       "      <td>Notebook</td>\n",
       "      <td>TransformAndLoad</td>\n",
       "      <td>Transform and load from files to tables.</td>\n",
       "      <td>a6f837e7-7cd8-4ea7-bc5b-2898f3c85704</td>\n",
       "      <td>a103c3ae-c6ff-4892-b5e3-2fd0ebc574dc</td>\n",
       "    </tr>\n",
       "    <tr>\n",
       "      <th>11</th>\n",
       "      <td>399ff0f0-fa34-4e5a-a481-c4424dfc3c9c</td>\n",
       "      <td>Lakehouse</td>\n",
       "      <td>LakeUnique</td>\n",
       "      <td>The unique lakehouse of the project.</td>\n",
       "      <td>a6f837e7-7cd8-4ea7-bc5b-2898f3c85704</td>\n",
       "      <td>f4812b7e-8ed9-4de8-a0b9-922cf47e86b5</td>\n",
       "    </tr>\n",
       "    <tr>\n",
       "      <th>12</th>\n",
       "      <td>bdec2331-bd1a-4ab9-aeeb-98ba54c2346f</td>\n",
       "      <td>DataPipeline</td>\n",
       "      <td>CopyData</td>\n",
       "      <td>Copy data from SQL Server to Lakehouse files.</td>\n",
       "      <td>a6f837e7-7cd8-4ea7-bc5b-2898f3c85704</td>\n",
       "      <td>a103c3ae-c6ff-4892-b5e3-2fd0ebc574dc</td>\n",
       "    </tr>\n",
       "  </tbody>\n",
       "</table>\n",
       "</div>"
      ],
      "text/plain": [
       "                                      id           type        displayName  \\\n",
       "0   cd9bfcb2-e363-41e0-83ce-854b1444e8fd         Report  CustomersAnalysis   \n",
       "1   f4beb8d1-a58e-4709-91ca-d07c628c5bee         Report   ProductsAnalysis   \n",
       "2   7bf48685-903e-47cc-8ff5-f9c650f20811         Report              Sales   \n",
       "3   af105b36-1581-4a09-b8f8-f4e9fab48253  SemanticModel      WareSecondary   \n",
       "4   7e8dcabe-6f47-47da-8043-54b8959e182d  SemanticModel      GoldenDataset   \n",
       "5   429c92d9-0766-44e6-98a0-9385421ecd46  SemanticModel         LakeUnique   \n",
       "6   7891bbf0-7327-44f4-9914-636721e4abd0  SemanticModel              Sales   \n",
       "7   56a222c9-2e43-4318-8926-9d20a02c489f      Warehouse      WareSecondary   \n",
       "8   21e6be66-089b-44d9-8a4a-1b7ce071c527    SQLEndpoint         LakeUnique   \n",
       "9   ad6111d0-5e05-4962-9772-9c5e2f177e16       Dataflow     UpdateCalendar   \n",
       "10  899be837-ec9e-4769-8823-4206ade7c692       Notebook   TransformAndLoad   \n",
       "11  399ff0f0-fa34-4e5a-a481-c4424dfc3c9c      Lakehouse         LakeUnique   \n",
       "12  bdec2331-bd1a-4ab9-aeeb-98ba54c2346f   DataPipeline           CopyData   \n",
       "\n",
       "                                      description  \\\n",
       "0                                                   \n",
       "1                                                   \n",
       "2                                                   \n",
       "3                                                   \n",
       "4                                                   \n",
       "5                                                   \n",
       "6                                                   \n",
       "7     The SQL storage for some specific analysis.   \n",
       "8                                                   \n",
       "9     Update the calendar table in the Lakehouse.   \n",
       "10       Transform and load from files to tables.   \n",
       "11           The unique lakehouse of the project.   \n",
       "12  Copy data from SQL Server to Lakehouse files.   \n",
       "\n",
       "                             workspaceId                              folderId  \n",
       "0   a6f837e7-7cd8-4ea7-bc5b-2898f3c85704  ae72e957-6c4b-44f7-9338-6d30d68fd1dd  \n",
       "1   a6f837e7-7cd8-4ea7-bc5b-2898f3c85704  ae72e957-6c4b-44f7-9338-6d30d68fd1dd  \n",
       "2   a6f837e7-7cd8-4ea7-bc5b-2898f3c85704  38717aa4-14f0-4004-a239-13bcde71fdf3  \n",
       "3   a6f837e7-7cd8-4ea7-bc5b-2898f3c85704  f4812b7e-8ed9-4de8-a0b9-922cf47e86b5  \n",
       "4   a6f837e7-7cd8-4ea7-bc5b-2898f3c85704  ae72e957-6c4b-44f7-9338-6d30d68fd1dd  \n",
       "5   a6f837e7-7cd8-4ea7-bc5b-2898f3c85704  f4812b7e-8ed9-4de8-a0b9-922cf47e86b5  \n",
       "6   a6f837e7-7cd8-4ea7-bc5b-2898f3c85704  38717aa4-14f0-4004-a239-13bcde71fdf3  \n",
       "7   a6f837e7-7cd8-4ea7-bc5b-2898f3c85704  f4812b7e-8ed9-4de8-a0b9-922cf47e86b5  \n",
       "8   a6f837e7-7cd8-4ea7-bc5b-2898f3c85704  f4812b7e-8ed9-4de8-a0b9-922cf47e86b5  \n",
       "9   a6f837e7-7cd8-4ea7-bc5b-2898f3c85704  a103c3ae-c6ff-4892-b5e3-2fd0ebc574dc  \n",
       "10  a6f837e7-7cd8-4ea7-bc5b-2898f3c85704  a103c3ae-c6ff-4892-b5e3-2fd0ebc574dc  \n",
       "11  a6f837e7-7cd8-4ea7-bc5b-2898f3c85704  f4812b7e-8ed9-4de8-a0b9-922cf47e86b5  \n",
       "12  a6f837e7-7cd8-4ea7-bc5b-2898f3c85704  a103c3ae-c6ff-4892-b5e3-2fd0ebc574dc  "
      ]
     },
     "execution_count": 6,
     "metadata": {},
     "output_type": "execute_result"
    }
   ],
   "source": [
    "pf.list_items(workspace='_pyfabricops-PRD', df=True) "
   ]
  },
  {
   "cell_type": "code",
   "execution_count": null,
   "id": "6de3a81b",
   "metadata": {},
   "outputs": [],
   "source": [
    "56a222c9-2e43-4318-8926-9d20a02c489f"
   ]
  }
 ],
 "metadata": {
  "kernelspec": {
   "display_name": "Python 3",
   "language": "python",
   "name": "python3"
  },
  "language_info": {
   "codemirror_mode": {
    "name": "ipython",
    "version": 3
   },
   "file_extension": ".py",
   "mimetype": "text/x-python",
   "name": "python",
   "nbconvert_exporter": "python",
   "pygments_lexer": "ipython3",
   "version": "3.12.10"
  }
 },
 "nbformat": 4,
 "nbformat_minor": 5
}
